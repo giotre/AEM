{
 "cells": [
  {
   "cell_type": "markdown",
   "metadata": {},
   "source": [
    "# Hands-on Python 3\n",
    "\n",
    "[![Open In Colab](https://colab.research.google.com/assets/colab-badge.svg)](https://colab.research.google.com/github/paolodeangelis/AEM/blob/main/1-Hands-on_Python3.ipynb)"
   ]
  },
  {
   "cell_type": "markdown",
   "metadata": {},
   "source": [
    "## Variabili e matematica di base"
   ]
  },
  {
   "cell_type": "markdown",
   "metadata": {},
   "source": [
    "### Commenti"
   ]
  },
  {
   "cell_type": "code",
   "execution_count": null,
   "metadata": {},
   "outputs": [],
   "source": [
    "# I commenti iniziano con il simbolo cancelletto `#`\n",
    "\n",
    "\"\"\"\n",
    "Per commenti lunghi più righe si scrivono aprendo\n",
    "e chiudendo la sezione di codice con 3 `\"`.\n",
    "Solitamente questo tipo do commenti è usato all'inizio di uno script\n",
    "o di una funzione/classe come documentazione (vd. docstring)\n",
    "\"\"\""
   ]
  },
  {
   "cell_type": "markdown",
   "metadata": {},
   "source": [
    "### Variabili scalari"
   ]
  },
  {
   "cell_type": "code",
   "execution_count": 8,
   "metadata": {},
   "outputs": [],
   "source": [
    "a_variable = \"memorizza delle stringhe\"  # stringhe\n",
    "an_integer = 5  # numeri interi\n",
    "a_float = 2.0  # numeri reali (numeri con parte decimale)\n",
    "a_boolean = True  # booleani (può avere solo due valori `True` o `False`)"
   ]
  },
  {
   "cell_type": "markdown",
   "metadata": {},
   "source": [
    "Python non a problemi ha fare operazioni con variabili di tipo misto"
   ]
  },
  {
   "cell_type": "code",
   "execution_count": 9,
   "metadata": {},
   "outputs": [
    {
     "data": {
      "text/plain": [
       "float"
      ]
     },
     "execution_count": 9,
     "metadata": {},
     "output_type": "execute_result"
    }
   ],
   "source": [
    "new_var = an_integer + a_float\n",
    "type(new_var)  # la funzione `type` restituisce che tipo di variabile (o oggetto) è"
   ]
  },
  {
   "cell_type": "code",
   "execution_count": 10,
   "metadata": {},
   "outputs": [
    {
     "data": {
      "text/plain": [
       "int"
      ]
     },
     "execution_count": 10,
     "metadata": {},
     "output_type": "execute_result"
    }
   ],
   "source": [
    "new_var = int(new_var)  # le funzioni `int`, `float`, `bool` e  `str` convertono la\n",
    "# variabile nel rispettivo tipo\n",
    "type(new_var)"
   ]
  },
  {
   "cell_type": "markdown",
   "metadata": {},
   "source": [
    "### Variabili \"array-like\""
   ]
  },
  {
   "cell_type": "markdown",
   "metadata": {},
   "source": [
    "#### Liste (`list`)"
   ]
  },
  {
   "cell_type": "code",
   "execution_count": 1,
   "metadata": {},
   "outputs": [
    {
     "data": {
      "text/plain": [
       "['può contenere di tutto', 5, 2.0, True]"
      ]
     },
     "execution_count": 1,
     "metadata": {},
     "output_type": "execute_result"
    }
   ],
   "source": [
    "a_list = [\"può contenere di tutto\", 5, 2.0, True]\n",
    "a_list"
   ]
  },
  {
   "cell_type": "code",
   "execution_count": 2,
   "metadata": {},
   "outputs": [
    {
     "data": {
      "text/plain": [
       "'può contenere di tutto'"
      ]
     },
     "execution_count": 2,
     "metadata": {},
     "output_type": "execute_result"
    }
   ],
   "source": [
    "a_list[0]  # restituisce il primo (0) elemento della lista"
   ]
  },
  {
   "cell_type": "code",
   "execution_count": 3,
   "metadata": {},
   "outputs": [
    {
     "data": {
      "text/plain": [
       "2.0"
      ]
     },
     "execution_count": 3,
     "metadata": {},
     "output_type": "execute_result"
    }
   ],
   "source": [
    "a_list[-2]  # restituisce il secondo elemento dalla fine"
   ]
  },
  {
   "cell_type": "code",
   "execution_count": 4,
   "metadata": {},
   "outputs": [
    {
     "data": {
      "text/plain": [
       "[5, 2.0, True]"
      ]
     },
     "execution_count": 4,
     "metadata": {},
     "output_type": "execute_result"
    }
   ],
   "source": [
    "a_list[1:4]  # porzione di lista (list slice):\n",
    "# restituisce parte della lista dal secondo (1) al quarto (3) elemento"
   ]
  },
  {
   "cell_type": "code",
   "execution_count": 5,
   "metadata": {},
   "outputs": [
    {
     "data": {
      "text/plain": [
       "['può contenere di tutto', 5, 2.0, True, 'appende un nuovo elemnto']"
      ]
     },
     "execution_count": 5,
     "metadata": {},
     "output_type": "execute_result"
    }
   ],
   "source": [
    "a_list.append(\"appende un nuovo elemento\")\n",
    "a_list"
   ]
  },
  {
   "cell_type": "code",
   "execution_count": 6,
   "metadata": {},
   "outputs": [
    {
     "data": {
      "text/plain": [
       "2.0"
      ]
     },
     "execution_count": 6,
     "metadata": {},
     "output_type": "execute_result"
    }
   ],
   "source": [
    "a_list.pop(2)  # restituisce e rimuove il terzo (2) elemento"
   ]
  },
  {
   "cell_type": "code",
   "execution_count": 7,
   "metadata": {},
   "outputs": [
    {
     "data": {
      "text/plain": [
       "['può contenere di tutto', 5, True, 'appende un nuovo elemnto']"
      ]
     },
     "execution_count": 7,
     "metadata": {},
     "output_type": "execute_result"
    }
   ],
   "source": [
    "a_list"
   ]
  },
  {
   "cell_type": "code",
   "execution_count": 8,
   "metadata": {},
   "outputs": [
    {
     "data": {
      "text/plain": [
       "['cambia il primo elemento', 5, True, 'appende un nuovo elemnto']"
      ]
     },
     "execution_count": 8,
     "metadata": {},
     "output_type": "execute_result"
    }
   ],
   "source": [
    "a_list[0] = \"cambia il primo elemento\"\n",
    "a_list"
   ]
  },
  {
   "cell_type": "code",
   "execution_count": 9,
   "metadata": {},
   "outputs": [
    {
     "data": {
      "text/plain": [
       "4"
      ]
     },
     "execution_count": 9,
     "metadata": {},
     "output_type": "execute_result"
    }
   ],
   "source": [
    "len(a_list)  # la funzione `len` restituisce la lunghezza della lista"
   ]
  },
  {
   "cell_type": "markdown",
   "metadata": {},
   "source": [
    "#### Dizionari `dictionaries`"
   ]
  },
  {
   "cell_type": "code",
   "execution_count": 10,
   "metadata": {},
   "outputs": [
    {
     "data": {
      "text/plain": [
       "{'key': 'value', 'integer': 5, 'float': 2.0, 'boolean': True}"
      ]
     },
     "execution_count": 10,
     "metadata": {},
     "output_type": "execute_result"
    }
   ],
   "source": [
    "a_dict = {\n",
    "    \"key\": \"value\",\n",
    "    \"integer\": 5,\n",
    "    \"float\": 2.0,\n",
    "    \"boolean\": True,\n",
    "}  # Esattamente come un dizionario abbiamo -> parola: definizione\n",
    "a_dict"
   ]
  },
  {
   "cell_type": "code",
   "execution_count": 11,
   "metadata": {},
   "outputs": [
    {
     "data": {
      "text/plain": [
       "'value'"
      ]
     },
     "execution_count": 11,
     "metadata": {},
     "output_type": "execute_result"
    }
   ],
   "source": [
    "a_dict[\"key\"]"
   ]
  },
  {
   "cell_type": "code",
   "execution_count": 12,
   "metadata": {},
   "outputs": [
    {
     "data": {
      "text/plain": [
       "5"
      ]
     },
     "execution_count": 12,
     "metadata": {},
     "output_type": "execute_result"
    }
   ],
   "source": [
    "a_dict[\"integer\"]"
   ]
  },
  {
   "cell_type": "code",
   "execution_count": 14,
   "metadata": {},
   "outputs": [
    {
     "data": {
      "text/plain": [
       "{'key': \"modifico una 'voce' del dizionario\",\n",
       " 'integer': 5,\n",
       " 'float': 2.0,\n",
       " 'boolean': True}"
      ]
     },
     "execution_count": 14,
     "metadata": {},
     "output_type": "execute_result"
    }
   ],
   "source": [
    "a_dict[\"key\"] = \"modifico una 'voce' del dizionario\"\n",
    "a_dict"
   ]
  },
  {
   "cell_type": "markdown",
   "metadata": {},
   "source": [
    "### Operazioni Matematiche"
   ]
  },
  {
   "cell_type": "code",
   "execution_count": 16,
   "metadata": {},
   "outputs": [
    {
     "data": {
      "text/plain": [
       "7"
      ]
     },
     "execution_count": 16,
     "metadata": {},
     "output_type": "execute_result"
    }
   ],
   "source": [
    "5 + 2  # Addizione"
   ]
  },
  {
   "cell_type": "code",
   "execution_count": 17,
   "metadata": {},
   "outputs": [
    {
     "data": {
      "text/plain": [
       "3"
      ]
     },
     "execution_count": 17,
     "metadata": {},
     "output_type": "execute_result"
    }
   ],
   "source": [
    "5 - 2  # Sottrazione"
   ]
  },
  {
   "cell_type": "code",
   "execution_count": 18,
   "metadata": {},
   "outputs": [
    {
     "data": {
      "text/plain": [
       "10"
      ]
     },
     "execution_count": 18,
     "metadata": {},
     "output_type": "execute_result"
    }
   ],
   "source": [
    "5 * 2  # Moltiplicazione"
   ]
  },
  {
   "cell_type": "code",
   "execution_count": 19,
   "metadata": {},
   "outputs": [
    {
     "data": {
      "text/plain": [
       "2.5"
      ]
     },
     "execution_count": 19,
     "metadata": {},
     "output_type": "execute_result"
    }
   ],
   "source": [
    "5 / 2  # Divisione, ATTENZIONE: la divisione in vecchie versioni di python può restituire solo la parte intera."
   ]
  },
  {
   "cell_type": "code",
   "execution_count": 20,
   "metadata": {},
   "outputs": [
    {
     "data": {
      "text/plain": [
       "2.5"
      ]
     },
     "execution_count": 20,
     "metadata": {},
     "output_type": "execute_result"
    }
   ],
   "source": [
    "5.0 / 2.0  # La divisione tra numeri float restituisce il valore coretto"
   ]
  },
  {
   "cell_type": "code",
   "execution_count": 22,
   "metadata": {},
   "outputs": [
    {
     "data": {
      "text/plain": [
       "2.0"
      ]
     },
     "execution_count": 22,
     "metadata": {},
     "output_type": "execute_result"
    }
   ],
   "source": [
    "5.0 // 2.0  # Divisione 'parte intera' restituisce solo la parte intera della divisione."
   ]
  },
  {
   "cell_type": "code",
   "execution_count": 21,
   "metadata": {},
   "outputs": [
    {
     "data": {
      "text/plain": [
       "25"
      ]
     },
     "execution_count": 21,
     "metadata": {},
     "output_type": "execute_result"
    }
   ],
   "source": [
    "5**2  # Esponenziale"
   ]
  },
  {
   "cell_type": "code",
   "execution_count": 23,
   "metadata": {},
   "outputs": [
    {
     "data": {
      "text/plain": [
       "1"
      ]
     },
     "execution_count": 23,
     "metadata": {},
     "output_type": "execute_result"
    }
   ],
   "source": [
    "5 % 2  # Modulo"
   ]
  },
  {
   "cell_type": "code",
   "execution_count": 24,
   "metadata": {},
   "outputs": [
    {
     "data": {
      "text/plain": [
       "37"
      ]
     },
     "execution_count": 24,
     "metadata": {},
     "output_type": "execute_result"
    }
   ],
   "source": [
    "(5 + 2) * 5 + 2  # Ordine delle operazioni (PEMDAS)"
   ]
  },
  {
   "cell_type": "markdown",
   "metadata": {},
   "source": [
    "### Operazioni Logiche"
   ]
  },
  {
   "cell_type": "code",
   "execution_count": 28,
   "metadata": {},
   "outputs": [
    {
     "data": {
      "text/plain": [
       "False"
      ]
     },
     "execution_count": 28,
     "metadata": {},
     "output_type": "execute_result"
    }
   ],
   "source": [
    "True and False  # N.B. python è sensibile alle maiuscole"
   ]
  },
  {
   "cell_type": "code",
   "execution_count": 29,
   "metadata": {},
   "outputs": [
    {
     "data": {
      "text/plain": [
       "True"
      ]
     },
     "execution_count": 29,
     "metadata": {},
     "output_type": "execute_result"
    }
   ],
   "source": [
    "False or True"
   ]
  },
  {
   "cell_type": "code",
   "execution_count": 30,
   "metadata": {},
   "outputs": [
    {
     "data": {
      "text/plain": [
       "True"
      ]
     },
     "execution_count": 30,
     "metadata": {},
     "output_type": "execute_result"
    }
   ],
   "source": [
    "True and not False"
   ]
  },
  {
   "cell_type": "code",
   "execution_count": 31,
   "metadata": {},
   "outputs": [
    {
     "data": {
      "text/plain": [
       "True"
      ]
     },
     "execution_count": 31,
     "metadata": {},
     "output_type": "execute_result"
    }
   ],
   "source": [
    "5 == 5"
   ]
  },
  {
   "cell_type": "code",
   "execution_count": 32,
   "metadata": {},
   "outputs": [
    {
     "data": {
      "text/plain": [
       "False"
      ]
     },
     "execution_count": 32,
     "metadata": {},
     "output_type": "execute_result"
    }
   ],
   "source": [
    "5 == 2"
   ]
  },
  {
   "cell_type": "code",
   "execution_count": 33,
   "metadata": {},
   "outputs": [
    {
     "data": {
      "text/plain": [
       "False"
      ]
     },
     "execution_count": 33,
     "metadata": {},
     "output_type": "execute_result"
    }
   ],
   "source": [
    "5 != 5"
   ]
  },
  {
   "cell_type": "code",
   "execution_count": 34,
   "metadata": {},
   "outputs": [
    {
     "data": {
      "text/plain": [
       "True"
      ]
     },
     "execution_count": 34,
     "metadata": {},
     "output_type": "execute_result"
    }
   ],
   "source": [
    "5 != 2"
   ]
  },
  {
   "cell_type": "code",
   "execution_count": 35,
   "metadata": {},
   "outputs": [
    {
     "data": {
      "text/plain": [
       "True"
      ]
     },
     "execution_count": 35,
     "metadata": {},
     "output_type": "execute_result"
    }
   ],
   "source": [
    "5 > 2"
   ]
  },
  {
   "cell_type": "code",
   "execution_count": 36,
   "metadata": {},
   "outputs": [
    {
     "data": {
      "text/plain": [
       "False"
      ]
     },
     "execution_count": 36,
     "metadata": {},
     "output_type": "execute_result"
    }
   ],
   "source": [
    "5 < 2"
   ]
  },
  {
   "cell_type": "code",
   "execution_count": 37,
   "metadata": {},
   "outputs": [
    {
     "data": {
      "text/plain": [
       "True"
      ]
     },
     "execution_count": 37,
     "metadata": {},
     "output_type": "execute_result"
    }
   ],
   "source": [
    "5 <= 5"
   ]
  },
  {
   "cell_type": "code",
   "execution_count": 38,
   "metadata": {},
   "outputs": [
    {
     "data": {
      "text/plain": [
       "True"
      ]
     },
     "execution_count": 38,
     "metadata": {},
     "output_type": "execute_result"
    }
   ],
   "source": [
    "5 >= 5"
   ]
  },
  {
   "cell_type": "markdown",
   "metadata": {},
   "source": [
    "## Flusso del programma in python"
   ]
  },
  {
   "cell_type": "markdown",
   "metadata": {},
   "source": [
    "### Conditional statements: `if` `elif` `then`"
   ]
  },
  {
   "cell_type": "code",
   "execution_count": 39,
   "metadata": {},
   "outputs": [
    {
     "name": "stdout",
     "output_type": "stream",
     "text": [
      "x è ugguale a 10.\n"
     ]
    }
   ],
   "source": [
    "x = 10  # prova a cambiare il valore della variabile\n",
    "if x > 10:\n",
    "    print(\"x è maggiore di 10.\")\n",
    "elif x < 10:\n",
    "    print(\"x è minore di 10.\")\n",
    "else:\n",
    "    print(\"x è ugguale a 10.\")\n",
    "# `elif` e `else` sono opzionali"
   ]
  },
  {
   "cell_type": "markdown",
   "metadata": {},
   "source": [
    "### Ciclo `for`"
   ]
  },
  {
   "cell_type": "code",
   "execution_count": 41,
   "metadata": {},
   "outputs": [
    {
     "name": "stdout",
     "output_type": "stream",
     "text": [
      "M'illumino\n",
      "d'immenso\n"
     ]
    }
   ],
   "source": [
    "ungaretti = [\"M'\" \"illumino\\n\" \"d'\" \"immenso\"]\n",
    "poesia = \"\"\n",
    "for parola in ungaretti:\n",
    "    poesia += parola\n",
    "print(poesia)"
   ]
  },
  {
   "cell_type": "code",
   "execution_count": 42,
   "metadata": {},
   "outputs": [
    {
     "name": "stdout",
     "output_type": "stream",
     "text": [
      "0\n",
      "1\n",
      "2\n"
     ]
    }
   ],
   "source": [
    "for i in range(3):\n",
    "    print(i)\n",
    "# range() inizia da 0 e conta fino a 3 (3 escluso)."
   ]
  },
  {
   "cell_type": "code",
   "execution_count": 44,
   "metadata": {},
   "outputs": [
    {
     "name": "stdout",
     "output_type": "stream",
     "text": [
      "[4, 6, 8]\n"
     ]
    }
   ],
   "source": [
    "a_list = []\n",
    "for i in range(4, 10, 2):\n",
    "    a_list.append(i)\n",
    "# range() inizia da 4 e conta ogni 2 fino a 10 (10 escluso).\n",
    "print(a_list)"
   ]
  },
  {
   "cell_type": "markdown",
   "metadata": {},
   "source": [
    "### Ciclo `while`"
   ]
  },
  {
   "cell_type": "code",
   "execution_count": 59,
   "metadata": {},
   "outputs": [
    {
     "name": "stdout",
     "output_type": "stream",
     "text": [
      "0 è minore di 3.\n",
      "1 è minore di 3.\n",
      "2 è minore di 3.\n"
     ]
    }
   ],
   "source": [
    "x = 0\n",
    "while x < 3:\n",
    "    print(f\"{x:d} è minore di 3.\")  # Formattazione con il method `.format`\n",
    "    x += 1"
   ]
  },
  {
   "cell_type": "code",
   "execution_count": 55,
   "metadata": {},
   "outputs": [
    {
     "name": "stdout",
     "output_type": "stream",
     "text": [
      "8\n",
      "4\n",
      "2\n",
      "1 -> end\n"
     ]
    }
   ],
   "source": [
    "x = 16\n",
    "while True:\n",
    "    x //= 2\n",
    "    if x > 1:\n",
    "        print(x)\n",
    "    else:\n",
    "        print(x, \"-> end\")\n",
    "        break"
   ]
  },
  {
   "cell_type": "markdown",
   "metadata": {},
   "source": [
    "### Nidificazione (nesting)"
   ]
  },
  {
   "cell_type": "code",
   "execution_count": 72,
   "metadata": {},
   "outputs": [
    {
     "name": "stdout",
     "output_type": "stream",
     "text": [
      "[1, 2, 3, 5, 7, 11, 13, 17, 19, 23, 29, 31, 37, 41, 43, 47, 53, 59, 61, 67, 71, 73, 79, 83, 89, 97]\n"
     ]
    }
   ],
   "source": [
    "prime = []\n",
    "for i in range(1, 100):\n",
    "    is_prime = True\n",
    "    for p in prime:\n",
    "        if i % p == 0 and p != 1:\n",
    "            is_prime = False\n",
    "            break\n",
    "    if is_prime:\n",
    "        prime.append(i)\n",
    "# N.B: Fa attenzione alle indentazioni di ogni blocco di codice\n",
    "print(prime)"
   ]
  },
  {
   "cell_type": "markdown",
   "metadata": {},
   "source": [
    "## Funzioni"
   ]
  },
  {
   "cell_type": "code",
   "execution_count": 25,
   "metadata": {},
   "outputs": [],
   "source": [
    "def get_primes(n_max: int, display: bool = True) -> list:\n",
    "    \"\"\"Get the prime numbers from 1 to ``n_max``\n",
    "\n",
    "    Args:\n",
    "        n_max (int): the function search for all primes < ``n_max``.\n",
    "        display (bool, optional): if True, print a message with the found prime numbers. Defaults to True.\n",
    "\n",
    "    Raises:\n",
    "        AssertionError: if ``n_max`` is not an integer.\n",
    "        ValueError: if ``n_max`` is greater that 100000.\n",
    "\n",
    "    Returns:\n",
    "        list: the list with the found prime numbers\n",
    "    \"\"\"\n",
    "    # E' una buona pratica controllare che la funzione riceva input coretti\n",
    "    if not isinstance(n_max, int):\n",
    "        raise AssertionError(\n",
    "            f\"First argument must be an integer, instead we recive a {type(n_max)}\"\n",
    "        )\n",
    "    if n_max > 100000:\n",
    "        raise ValueError(f\"The first argument is too big ({n_max} > 100000)\")\n",
    "    prime = []\n",
    "    for i in range(1, n_max):\n",
    "        is_prime = True\n",
    "        for p in prime:\n",
    "            if i % p == 0 and p != 1:\n",
    "                is_prime = False\n",
    "                break\n",
    "        if is_prime:\n",
    "            prime.append(i)\n",
    "    if display:\n",
    "        print(f\"prime numbers < {n_max}:\")\n",
    "        print(\n",
    "            \" \".join([f\"{p}\" for p in prime])\n",
    "        )  # altra magia di python, cicli `for`` dentro una lista (qui usata per convertire i numeri in stringhe)\n",
    "    return prime  # senza l' instance `return` la funzione ritorna `None` (cioè niente)"
   ]
  },
  {
   "cell_type": "markdown",
   "metadata": {},
   "source": [
    "Con la funzione `help` stampiamo la documentazione della funzione"
   ]
  },
  {
   "cell_type": "code",
   "execution_count": 32,
   "metadata": {},
   "outputs": [
    {
     "name": "stdout",
     "output_type": "stream",
     "text": [
      "Help on function get_primes in module __main__:\n",
      "\n",
      "get_primes(n_max: int, display: bool = True) -> list\n",
      "    Get the prime numbers from 1 to ``n_max``\n",
      "    \n",
      "    Args:\n",
      "        n_max (int): the function search for all primes < ``n_max``.\n",
      "        display (bool, optional): if True, print a message with the found prime numbers. Defaults to True.\n",
      "    \n",
      "    Raises:\n",
      "        AssertionError: if ``n_max`` is not an integer.\n",
      "        ValueError: if ``n_max`` is greater that 100000.\n",
      "    \n",
      "    Returns:\n",
      "        list: the list with the found prime numbers\n",
      "\n"
     ]
    }
   ],
   "source": [
    "help(get_primes)"
   ]
  },
  {
   "cell_type": "markdown",
   "metadata": {},
   "source": [
    "Eseguiamo la funzione:"
   ]
  },
  {
   "cell_type": "code",
   "execution_count": 31,
   "metadata": {},
   "outputs": [
    {
     "name": "stdout",
     "output_type": "stream",
     "text": [
      "prime numbers < 150:\n",
      "1 2 3 5 7 11 13 17 19 23 29 31 37 41 43 47 53 59 61 67 71 73 79 83 89 97 101 103 107 109 113 127 131 137 139 149\n"
     ]
    }
   ],
   "source": [
    "list_primes = get_primes(150, display=True)"
   ]
  },
  {
   "cell_type": "markdown",
   "metadata": {},
   "source": [
    "Cosa succede se passiamo un numero `float` alla funzione?"
   ]
  },
  {
   "cell_type": "code",
   "execution_count": 29,
   "metadata": {},
   "outputs": [
    {
     "ename": "AssertionError",
     "evalue": "First argument must be an integer, instead we recive a <class 'float'>",
     "output_type": "error",
     "traceback": [
      "\u001b[0;31m---------------------------------------------------------------------------\u001b[0m",
      "\u001b[0;31mAssertionError\u001b[0m                            Traceback (most recent call last)",
      "\u001b[1;32m/home/paolo/PyProjects/AEM/1-Hands-on_Python3.ipynb Cell 63'\u001b[0m in \u001b[0;36m<cell line: 1>\u001b[0;34m()\u001b[0m\n\u001b[0;32m----> <a href='vscode-notebook-cell://wsl%2Bubuntu-20.04/home/paolo/PyProjects/AEM/1-Hands-on_Python3.ipynb#ch0000066vscode-remote?line=0'>1</a>\u001b[0m get_primes(\u001b[39m1e3\u001b[39;49m)\n",
      "\u001b[1;32m/home/paolo/PyProjects/AEM/1-Hands-on_Python3.ipynb Cell 61'\u001b[0m in \u001b[0;36mget_primes\u001b[0;34m(n_max, display)\u001b[0m\n\u001b[1;32m     <a href='vscode-notebook-cell://wsl%2Bubuntu-20.04/home/paolo/PyProjects/AEM/1-Hands-on_Python3.ipynb#ch0000060vscode-remote?line=14'>15</a>\u001b[0m \u001b[39m# E' una buona pratica controllare che la funzione riceva input coretti\u001b[39;00m\n\u001b[1;32m     <a href='vscode-notebook-cell://wsl%2Bubuntu-20.04/home/paolo/PyProjects/AEM/1-Hands-on_Python3.ipynb#ch0000060vscode-remote?line=15'>16</a>\u001b[0m \u001b[39mif\u001b[39;00m \u001b[39mnot\u001b[39;00m \u001b[39misinstance\u001b[39m(n_max, \u001b[39mint\u001b[39m):\n\u001b[0;32m---> <a href='vscode-notebook-cell://wsl%2Bubuntu-20.04/home/paolo/PyProjects/AEM/1-Hands-on_Python3.ipynb#ch0000060vscode-remote?line=16'>17</a>\u001b[0m     \u001b[39mraise\u001b[39;00m \u001b[39mAssertionError\u001b[39;00m(\u001b[39mf\u001b[39m\u001b[39m\"\u001b[39m\u001b[39mFirst argument must be an integer, instead we recive a \u001b[39m\u001b[39m{\u001b[39;00m\u001b[39mtype\u001b[39m(n_max)\u001b[39m}\u001b[39;00m\u001b[39m\"\u001b[39m)\n\u001b[1;32m     <a href='vscode-notebook-cell://wsl%2Bubuntu-20.04/home/paolo/PyProjects/AEM/1-Hands-on_Python3.ipynb#ch0000060vscode-remote?line=17'>18</a>\u001b[0m \u001b[39mif\u001b[39;00m n_max \u001b[39m>\u001b[39m \u001b[39m100000\u001b[39m:\n\u001b[1;32m     <a href='vscode-notebook-cell://wsl%2Bubuntu-20.04/home/paolo/PyProjects/AEM/1-Hands-on_Python3.ipynb#ch0000060vscode-remote?line=18'>19</a>\u001b[0m     \u001b[39mraise\u001b[39;00m \u001b[39mValueError\u001b[39;00m(\u001b[39mf\u001b[39m\u001b[39m\"\u001b[39m\u001b[39mThe first argument is too big (\u001b[39m\u001b[39m{\u001b[39;00mn_max\u001b[39m}\u001b[39;00m\u001b[39m > 100000)\u001b[39m\u001b[39m\"\u001b[39m)\n",
      "\u001b[0;31mAssertionError\u001b[0m: First argument must be an integer, instead we recive a <class 'float'>"
     ]
    }
   ],
   "source": [
    "get_primes(1e3)"
   ]
  },
  {
   "cell_type": "markdown",
   "metadata": {},
   "source": [
    "E se passiamo un numero troppo grande?"
   ]
  },
  {
   "cell_type": "code",
   "execution_count": 30,
   "metadata": {},
   "outputs": [
    {
     "ename": "ValueError",
     "evalue": "The first argument is too big (999999 > 100000)",
     "output_type": "error",
     "traceback": [
      "\u001b[0;31m---------------------------------------------------------------------------\u001b[0m",
      "\u001b[0;31mValueError\u001b[0m                                Traceback (most recent call last)",
      "\u001b[1;32m/home/paolo/PyProjects/AEM/1-Hands-on_Python3.ipynb Cell 64'\u001b[0m in \u001b[0;36m<cell line: 1>\u001b[0;34m()\u001b[0m\n\u001b[0;32m----> <a href='vscode-notebook-cell://wsl%2Bubuntu-20.04/home/paolo/PyProjects/AEM/1-Hands-on_Python3.ipynb#ch0000065vscode-remote?line=0'>1</a>\u001b[0m get_primes(\u001b[39m999999\u001b[39;49m)\n",
      "\u001b[1;32m/home/paolo/PyProjects/AEM/1-Hands-on_Python3.ipynb Cell 61'\u001b[0m in \u001b[0;36mget_primes\u001b[0;34m(n_max, display)\u001b[0m\n\u001b[1;32m     <a href='vscode-notebook-cell://wsl%2Bubuntu-20.04/home/paolo/PyProjects/AEM/1-Hands-on_Python3.ipynb#ch0000060vscode-remote?line=16'>17</a>\u001b[0m     \u001b[39mraise\u001b[39;00m \u001b[39mAssertionError\u001b[39;00m(\u001b[39mf\u001b[39m\u001b[39m\"\u001b[39m\u001b[39mFirst argument must be an integer, instead we recive a \u001b[39m\u001b[39m{\u001b[39;00m\u001b[39mtype\u001b[39m(n_max)\u001b[39m}\u001b[39;00m\u001b[39m\"\u001b[39m)\n\u001b[1;32m     <a href='vscode-notebook-cell://wsl%2Bubuntu-20.04/home/paolo/PyProjects/AEM/1-Hands-on_Python3.ipynb#ch0000060vscode-remote?line=17'>18</a>\u001b[0m \u001b[39mif\u001b[39;00m n_max \u001b[39m>\u001b[39m \u001b[39m100000\u001b[39m:\n\u001b[0;32m---> <a href='vscode-notebook-cell://wsl%2Bubuntu-20.04/home/paolo/PyProjects/AEM/1-Hands-on_Python3.ipynb#ch0000060vscode-remote?line=18'>19</a>\u001b[0m     \u001b[39mraise\u001b[39;00m \u001b[39mValueError\u001b[39;00m(\u001b[39mf\u001b[39m\u001b[39m\"\u001b[39m\u001b[39mThe first argument is too big (\u001b[39m\u001b[39m{\u001b[39;00mn_max\u001b[39m}\u001b[39;00m\u001b[39m > 100000)\u001b[39m\u001b[39m\"\u001b[39m)\n\u001b[1;32m     <a href='vscode-notebook-cell://wsl%2Bubuntu-20.04/home/paolo/PyProjects/AEM/1-Hands-on_Python3.ipynb#ch0000060vscode-remote?line=19'>20</a>\u001b[0m prime \u001b[39m=\u001b[39m []\n\u001b[1;32m     <a href='vscode-notebook-cell://wsl%2Bubuntu-20.04/home/paolo/PyProjects/AEM/1-Hands-on_Python3.ipynb#ch0000060vscode-remote?line=20'>21</a>\u001b[0m \u001b[39mfor\u001b[39;00m i \u001b[39min\u001b[39;00m \u001b[39mrange\u001b[39m(\u001b[39m1\u001b[39m, n_max):\n",
      "\u001b[0;31mValueError\u001b[0m: The first argument is too big (999999 > 100000)"
     ]
    }
   ],
   "source": [
    "get_primes(999999)"
   ]
  },
  {
   "cell_type": "markdown",
   "metadata": {},
   "source": [
    "## Pausa\n",
    "\n",
    "<img src=\"https://github.com/paolodeangelis/AEM/raw/main/img/coffe_break.jpg\" width=\"400\"/>"
   ]
  },
  {
   "cell_type": "markdown",
   "metadata": {},
   "source": [
    "## Classi (a.k.a. Oggetti)"
   ]
  },
  {
   "cell_type": "markdown",
   "metadata": {},
   "source": [
    "Esempio definiamo l'oggetto `Student` che è una sotto-classe dell'oggetto `Person`"
   ]
  },
  {
   "cell_type": "code",
   "execution_count": 77,
   "metadata": {},
   "outputs": [],
   "source": [
    "TODAY = \"29/04/2022\"\n",
    "\n",
    "\n",
    "class Person:\n",
    "    \"\"\"Person class define virtually a person.\n",
    "\n",
    "    We are not here to answer the philosophical question, \"What is a person?\".\n",
    "    Here a person is defined by the following attributes.\n",
    "\n",
    "    Attributes:\n",
    "        name (str): Name of the person\n",
    "        family name (str): Family name of the person\n",
    "        age (int, optional): How old is the person\n",
    "        birthday (str, optional): The person's birthday\n",
    "    \"\"\"\n",
    "\n",
    "    def __init__(\n",
    "        self, name: str, familyname: str, age: int = None, birthday: str = None\n",
    "    ):\n",
    "        \"\"\"Initialize the Person object.\n",
    "\n",
    "        The ``__init__`` method \"initialize\" the object, i.e., allocates a portion\n",
    "        of the memory (object construction). The ``__init__`` function is called every\n",
    "        time an object is created from a class.\n",
    "\n",
    "        Args:\n",
    "            name (str): Name of the person\n",
    "            family name (str): Family name of the person\n",
    "            age (int, optional): How old is the person. Defaults to None.\n",
    "            birthday (str, optional): The person's birthday. Defaults to None.\n",
    "        \"\"\"\n",
    "        self.name = name\n",
    "        self.familyname = familyname\n",
    "        self.age = age\n",
    "        self.birthday = birthday\n",
    "\n",
    "    def _convert_date(\n",
    "        self, date: str\n",
    "    ):  # Quando un metodo inizia con \"_\" è considerato privato\n",
    "        for sep in [\" \", \"-\", \"\\\\\"]:\n",
    "            date = date.replace(sep, \"/\")\n",
    "        day, month, year = (int(s) for s in date.split(\"/\"))\n",
    "        return day + month * 30 + year * 30 * 12\n",
    "\n",
    "    def get_age(self):\n",
    "        if self.age is None:\n",
    "            age = round(\n",
    "                (self._convert_date(TODAY) - self._convert_date(self.birthday))\n",
    "                / (30 * 12)\n",
    "            )\n",
    "        else:\n",
    "            age = self.age\n",
    "        return age\n",
    "\n",
    "\n",
    "class Student(Person):\n",
    "    \"\"\"Student class defines virtually a student.\n",
    "\n",
    "    A student is a person with a \"matricola\".\n",
    "\n",
    "    Attributes:\n",
    "        name (str): Name of the person\n",
    "        family name (str): Family name of the person\n",
    "        matricola (int): Studnet identification number\n",
    "        age (int, optional): How old is the person\n",
    "        birthday (str, optional): The person's birthday\n",
    "    \"\"\"\n",
    "\n",
    "    def __init__(\n",
    "        self,\n",
    "        name: str,\n",
    "        familyname: str,\n",
    "        matricola: int,\n",
    "        age: int = None,\n",
    "        birthday: str = None,\n",
    "    ):\n",
    "        \"\"\"Initialize the Person object.\n",
    "\n",
    "        The ``__init__`` method \"initialize\" the object, i.e., allocates a portion\n",
    "        of the memory (object construction). The ``__init__`` function is called every\n",
    "        time an object is created from a class.\n",
    "\n",
    "        Args:\n",
    "            name (str): Name of the person\n",
    "            family name (str): Family name of the person\n",
    "            matricola (int): Studnet identification number\n",
    "            age (int, optional): How old is the person. Defaults to None.\n",
    "            birthday (str, optional): The person's birthday. Defaults to None.\n",
    "        \"\"\"\n",
    "        super().__init__(\n",
    "            name, familyname, age=age, birthday=birthday\n",
    "        )  # con `super()` richiama `__init__`` della classe Person\n",
    "        self.matricola = matricola\n",
    "        self.grade = None\n",
    "\n",
    "    def set_exam_grade(self, grade: int):\n",
    "        self.grade = grade\n",
    "\n",
    "    def exam_passed(self):\n",
    "        if self.grade is None:\n",
    "            print(f\"{self.name} {self.familyname} do the written exam first.\")\n",
    "        elif self.grade < 15:\n",
    "            print(\n",
    "                f\"{self.name} {self.familyname}, sorry but you fail the exam.\\nTry it again the next date.\"\n",
    "            )\n",
    "        elif self.grade < 18:\n",
    "            print(f\"Dear {self.name} {self.familyname}, you need to do the oral exam.\")\n",
    "        elif self.grade <= 30:\n",
    "            print(f\"Good job {self.name} {self.familyname}! you passed the exam!\")\n",
    "        else:\n",
    "            print(\n",
    "                f\"Good job {self.name} {self.familyname}! you passed the exam CUM LAUDE!\"\n",
    "            )"
   ]
  },
  {
   "cell_type": "code",
   "execution_count": 76,
   "metadata": {},
   "outputs": [
    {
     "name": "stdout",
     "output_type": "stream",
     "text": [
      "Help on class Student in module __main__:\n",
      "\n",
      "class Student(Person)\n",
      " |  Student(name: str, familyname: str, matricola: int, age: int = None, birthday: str = None)\n",
      " |  \n",
      " |  Student class defines virtually a student.\n",
      " |  \n",
      " |  A student is a person with a \"matricola\".\n",
      " |  \n",
      " |  Attributes:\n",
      " |      name (str): Name of the person\n",
      " |      family name (str): Family name of the person\n",
      " |      matricola (int): Studnet identification number\n",
      " |      age (int, optional): How old is the person\n",
      " |      birthday (str, optional): The person's birthday\n",
      " |  \n",
      " |  Method resolution order:\n",
      " |      Student\n",
      " |      Person\n",
      " |      builtins.object\n",
      " |  \n",
      " |  Methods defined here:\n",
      " |  \n",
      " |  __init__(self, name: str, familyname: str, matricola: int, age: int = None, birthday: str = None)\n",
      " |      Initialize the Person object.\n",
      " |      \n",
      " |      The ``__init__`` method \"initialize\" the object, i.e., allocates a portion\n",
      " |      of the memory (object construction). The ``__init__`` function is called every\n",
      " |      time an object is created from a class.\n",
      " |      \n",
      " |      Args:\n",
      " |          name (str): Name of the person\n",
      " |          family name (str): Family name of the person\n",
      " |          matricola (int): Studnet identification number\n",
      " |          age (int, optional): How old is the person. Defaults to None.\n",
      " |          birthday (str, optional): The person's birthday. Defaults to None.\n",
      " |  \n",
      " |  exam_passed(self)\n",
      " |  \n",
      " |  set_exam_grade(self, grade: int)\n",
      " |  \n",
      " |  ----------------------------------------------------------------------\n",
      " |  Methods inherited from Person:\n",
      " |  \n",
      " |  get_age(self)\n",
      " |  \n",
      " |  ----------------------------------------------------------------------\n",
      " |  Data descriptors inherited from Person:\n",
      " |  \n",
      " |  __dict__\n",
      " |      dictionary for instance variables (if defined)\n",
      " |  \n",
      " |  __weakref__\n",
      " |      list of weak references to the object (if defined)\n",
      "\n"
     ]
    }
   ],
   "source": [
    "help(Student)  # nota come non viene mostrato il metodo `_convert_date`"
   ]
  },
  {
   "cell_type": "markdown",
   "metadata": {},
   "source": [
    "Definisco lo stundete *Mario Rossi*"
   ]
  },
  {
   "cell_type": "code",
   "execution_count": 78,
   "metadata": {},
   "outputs": [],
   "source": [
    "mario = Student(\"Mario\", \"Rossi\", 271828, birthday=\"01/06/2000\")"
   ]
  },
  {
   "cell_type": "code",
   "execution_count": 79,
   "metadata": {},
   "outputs": [
    {
     "data": {
      "text/plain": [
       "22"
      ]
     },
     "execution_count": 79,
     "metadata": {},
     "output_type": "execute_result"
    }
   ],
   "source": [
    "mario.get_age()"
   ]
  },
  {
   "cell_type": "code",
   "execution_count": 82,
   "metadata": {},
   "outputs": [],
   "source": [
    "mario.set_exam_grade(10)"
   ]
  },
  {
   "cell_type": "code",
   "execution_count": 83,
   "metadata": {},
   "outputs": [
    {
     "name": "stdout",
     "output_type": "stream",
     "text": [
      "Mario Rossi, sorry but you fail the exam.\n",
      "Try it again the next date.\n"
     ]
    }
   ],
   "source": [
    "mario.exam_passed()"
   ]
  },
  {
   "cell_type": "code",
   "execution_count": null,
   "metadata": {},
   "outputs": [],
   "source": []
  }
 ],
 "metadata": {
  "interpreter": {
   "hash": "f56a962d3a7bb3c24c28e660b878abc8ea07b38e319e22d8208006d09eddbc70"
  },
  "kernelspec": {
   "display_name": "Python 3.8.10 ('venv_38')",
   "language": "python",
   "name": "python3"
  },
  "language_info": {
   "codemirror_mode": {
    "name": "ipython",
    "version": 3
   },
   "file_extension": ".py",
   "mimetype": "text/x-python",
   "name": "python",
   "nbconvert_exporter": "python",
   "pygments_lexer": "ipython3",
   "version": "3.8.10"
  },
  "orig_nbformat": 4
 },
 "nbformat": 4,
 "nbformat_minor": 2
}
