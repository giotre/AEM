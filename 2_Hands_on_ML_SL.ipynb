{
  "cells": [
    {
      "cell_type": "markdown",
      "metadata": {
        "id": "wTkOlztYCtDJ"
      },
      "source": [
        "# Hands on Machine Learning (ML) and Sequential Learning (SL)\n",
        "\n",
        "[![Open In Colab](https://colab.research.google.com/assets/colab-badge.svg)](https://colab.research.google.com/github/paolodeangelis/AEM/blob/main/2-Hands_on_ML_SL.ipynb)"
      ]
    },
    {
      "cell_type": "markdown",
      "metadata": {
        "id": "E0QS0d7u8PJ9"
      },
      "source": [
        "## Preamble\n",
        "\n",
        "In this section we install and import the necessary modules for running the first part of the excersise (importing and handling data, training and validating the ML model, interpreting the ML model); we also define useful functions for materials featurization."
      ]
    },
    {
      "cell_type": "markdown",
      "metadata": {
        "id": "8gpYaHBUCtDN"
      },
      "source": [
        "Installing with `pip` the necessary libraries (force the version with ==)"
      ]
    },
    {
      "cell_type": "code",
      "execution_count": 1,
      "metadata": {
        "id": "CaWGH7bJ4hxU",
        "colab": {
          "base_uri": "https://localhost:8080/",
          "height": 0
        },
        "outputId": "8f26a6cb-a0f4-4bb2-d7d2-beb1cbd0488f"
      },
      "outputs": [
        {
          "output_type": "stream",
          "name": "stdout",
          "text": [
            "Looking in indexes: https://pypi.org/simple, https://us-python.pkg.dev/colab-wheels/public/simple/\n",
            "Collecting matminer==0.8.0\n",
            "  Downloading matminer-0.8.0-py3-none-any.whl (1.4 MB)\n",
            "\u001b[2K     \u001b[90m━━━━━━━━━━━━━━━━━━━━━━━━━━━━━━━━━━━━━━━━\u001b[0m \u001b[32m1.4/1.4 MB\u001b[0m \u001b[31m24.3 MB/s\u001b[0m eta \u001b[36m0:00:00\u001b[0m\n",
            "\u001b[?25hRequirement already satisfied: numpy>=1.20.1 in /usr/local/lib/python3.10/dist-packages (from matminer==0.8.0) (1.22.4)\n",
            "Collecting pymongo\n",
            "  Downloading pymongo-4.3.3-cp310-cp310-manylinux_2_17_x86_64.manylinux2014_x86_64.whl (492 kB)\n",
            "\u001b[2K     \u001b[90m━━━━━━━━━━━━━━━━━━━━━━━━━━━━━━━━━━━━━━\u001b[0m \u001b[32m492.9/492.9 kB\u001b[0m \u001b[31m24.3 MB/s\u001b[0m eta \u001b[36m0:00:00\u001b[0m\n",
            "\u001b[?25hRequirement already satisfied: tqdm in /usr/local/lib/python3.10/dist-packages (from matminer==0.8.0) (4.65.0)\n",
            "Requirement already satisfied: pandas in /usr/local/lib/python3.10/dist-packages (from matminer==0.8.0) (1.5.3)\n",
            "Requirement already satisfied: future in /usr/local/lib/python3.10/dist-packages (from matminer==0.8.0) (0.18.3)\n",
            "Collecting monty\n",
            "  Downloading monty-2023.4.10-py3-none-any.whl (67 kB)\n",
            "\u001b[2K     \u001b[90m━━━━━━━━━━━━━━━━━━━━━━━━━━━━━━━━━━━━━━━━\u001b[0m \u001b[32m67.0/67.0 kB\u001b[0m \u001b[31m4.9 MB/s\u001b[0m eta \u001b[36m0:00:00\u001b[0m\n",
            "\u001b[?25hRequirement already satisfied: requests in /usr/local/lib/python3.10/dist-packages (from matminer==0.8.0) (2.27.1)\n",
            "Requirement already satisfied: scikit-learn in /usr/local/lib/python3.10/dist-packages (from matminer==0.8.0) (1.2.2)\n",
            "Collecting pymatgen\n",
            "  Downloading pymatgen-2023.3.23-cp310-cp310-manylinux_2_17_x86_64.manylinux2014_x86_64.whl (12.4 MB)\n",
            "\u001b[2K     \u001b[90m━━━━━━━━━━━━━━━━━━━━━━━━━━━━━━━━━━━━━━━━\u001b[0m \u001b[32m12.4/12.4 MB\u001b[0m \u001b[31m81.1 MB/s\u001b[0m eta \u001b[36m0:00:00\u001b[0m\n",
            "\u001b[?25hRequirement already satisfied: sympy in /usr/local/lib/python3.10/dist-packages (from matminer==0.8.0) (1.11.1)\n",
            "Requirement already satisfied: python-dateutil>=2.8.1 in /usr/local/lib/python3.10/dist-packages (from pandas->matminer==0.8.0) (2.8.2)\n",
            "Requirement already satisfied: pytz>=2020.1 in /usr/local/lib/python3.10/dist-packages (from pandas->matminer==0.8.0) (2022.7.1)\n",
            "Requirement already satisfied: scipy>=1.5.0 in /usr/local/lib/python3.10/dist-packages (from pymatgen->matminer==0.8.0) (1.10.1)\n",
            "Collecting uncertainties>=3.1.4\n",
            "  Downloading uncertainties-3.1.7-py2.py3-none-any.whl (98 kB)\n",
            "\u001b[2K     \u001b[90m━━━━━━━━━━━━━━━━━━━━━━━━━━━━━━━━━━━━━━━━\u001b[0m \u001b[32m98.4/98.4 kB\u001b[0m \u001b[31m6.5 MB/s\u001b[0m eta \u001b[36m0:00:00\u001b[0m\n",
            "\u001b[?25hRequirement already satisfied: palettable>=3.1.1 in /usr/local/lib/python3.10/dist-packages (from pymatgen->matminer==0.8.0) (3.3.3)\n",
            "Requirement already satisfied: networkx>=2.2 in /usr/local/lib/python3.10/dist-packages (from pymatgen->matminer==0.8.0) (3.1)\n",
            "Collecting pybtex\n",
            "  Downloading pybtex-0.24.0-py2.py3-none-any.whl (561 kB)\n",
            "\u001b[2K     \u001b[90m━━━━━━━━━━━━━━━━━━━━━━━━━━━━━━━━━━━━━━\u001b[0m \u001b[32m561.4/561.4 kB\u001b[0m \u001b[31m33.6 MB/s\u001b[0m eta \u001b[36m0:00:00\u001b[0m\n",
            "\u001b[?25hCollecting mp-api>=0.27.3\n",
            "  Downloading mp_api-0.32.1-py3-none-any.whl (74 kB)\n",
            "\u001b[2K     \u001b[90m━━━━━━━━━━━━━━━━━━━━━━━━━━━━━━━━━━━━━━━━\u001b[0m \u001b[32m74.6/74.6 kB\u001b[0m \u001b[31m4.9 MB/s\u001b[0m eta \u001b[36m0:00:00\u001b[0m\n",
            "\u001b[?25hRequirement already satisfied: plotly>=4.5.0 in /usr/local/lib/python3.10/dist-packages (from pymatgen->matminer==0.8.0) (5.13.1)\n",
            "Collecting spglib>=2.0.2\n",
            "  Downloading spglib-2.0.2-cp310-cp310-manylinux_2_17_x86_64.manylinux2014_x86_64.whl (515 kB)\n",
            "\u001b[2K     \u001b[90m━━━━━━━━━━━━━━━━━━━━━━━━━━━━━━━━━━━━━━\u001b[0m \u001b[32m515.3/515.3 kB\u001b[0m \u001b[31m31.1 MB/s\u001b[0m eta \u001b[36m0:00:00\u001b[0m\n",
            "\u001b[?25hRequirement already satisfied: tabulate in /usr/local/lib/python3.10/dist-packages (from pymatgen->matminer==0.8.0) (0.8.10)\n",
            "Requirement already satisfied: matplotlib>=1.5 in /usr/local/lib/python3.10/dist-packages (from pymatgen->matminer==0.8.0) (3.7.1)\n",
            "Collecting ruamel.yaml>=0.17.0\n",
            "  Downloading ruamel.yaml-0.17.22-py3-none-any.whl (107 kB)\n",
            "\u001b[2K     \u001b[90m━━━━━━━━━━━━━━━━━━━━━━━━━━━━━━━━━━━━━━━\u001b[0m \u001b[32m107.8/107.8 kB\u001b[0m \u001b[31m1.1 MB/s\u001b[0m eta \u001b[36m0:00:00\u001b[0m\n",
            "\u001b[?25hCollecting dnspython<3.0.0,>=1.16.0\n",
            "  Downloading dnspython-2.3.0-py3-none-any.whl (283 kB)\n",
            "\u001b[2K     \u001b[90m━━━━━━━━━━━━━━━━━━━━━━━━━━━━━━━━━━━━━━\u001b[0m \u001b[32m283.7/283.7 kB\u001b[0m \u001b[31m16.2 MB/s\u001b[0m eta \u001b[36m0:00:00\u001b[0m\n",
            "\u001b[?25hRequirement already satisfied: idna<4,>=2.5 in /usr/local/lib/python3.10/dist-packages (from requests->matminer==0.8.0) (3.4)\n",
            "Requirement already satisfied: urllib3<1.27,>=1.21.1 in /usr/local/lib/python3.10/dist-packages (from requests->matminer==0.8.0) (1.26.15)\n",
            "Requirement already satisfied: certifi>=2017.4.17 in /usr/local/lib/python3.10/dist-packages (from requests->matminer==0.8.0) (2022.12.7)\n",
            "Requirement already satisfied: charset-normalizer~=2.0.0 in /usr/local/lib/python3.10/dist-packages (from requests->matminer==0.8.0) (2.0.12)\n",
            "Requirement already satisfied: threadpoolctl>=2.0.0 in /usr/local/lib/python3.10/dist-packages (from scikit-learn->matminer==0.8.0) (3.1.0)\n",
            "Requirement already satisfied: joblib>=1.1.1 in /usr/local/lib/python3.10/dist-packages (from scikit-learn->matminer==0.8.0) (1.2.0)\n",
            "Requirement already satisfied: mpmath>=0.19 in /usr/local/lib/python3.10/dist-packages (from sympy->matminer==0.8.0) (1.3.0)\n",
            "Requirement already satisfied: kiwisolver>=1.0.1 in /usr/local/lib/python3.10/dist-packages (from matplotlib>=1.5->pymatgen->matminer==0.8.0) (1.4.4)\n",
            "Requirement already satisfied: pyparsing>=2.3.1 in /usr/local/lib/python3.10/dist-packages (from matplotlib>=1.5->pymatgen->matminer==0.8.0) (3.0.9)\n",
            "Requirement already satisfied: cycler>=0.10 in /usr/local/lib/python3.10/dist-packages (from matplotlib>=1.5->pymatgen->matminer==0.8.0) (0.11.0)\n",
            "Requirement already satisfied: packaging>=20.0 in /usr/local/lib/python3.10/dist-packages (from matplotlib>=1.5->pymatgen->matminer==0.8.0) (23.1)\n",
            "Requirement already satisfied: contourpy>=1.0.1 in /usr/local/lib/python3.10/dist-packages (from matplotlib>=1.5->pymatgen->matminer==0.8.0) (1.0.7)\n",
            "Requirement already satisfied: fonttools>=4.22.0 in /usr/local/lib/python3.10/dist-packages (from matplotlib>=1.5->pymatgen->matminer==0.8.0) (4.39.3)\n",
            "Requirement already satisfied: pillow>=6.2.0 in /usr/local/lib/python3.10/dist-packages (from matplotlib>=1.5->pymatgen->matminer==0.8.0) (8.4.0)\n",
            "Collecting emmet-core<=0.50.0\n",
            "  Downloading emmet_core-0.50.0-py3-none-any.whl (137 kB)\n",
            "\u001b[2K     \u001b[90m━━━━━━━━━━━━━━━━━━━━━━━━━━━━━━━━━━━━━━━\u001b[0m \u001b[32m137.5/137.5 kB\u001b[0m \u001b[31m7.3 MB/s\u001b[0m eta \u001b[36m0:00:00\u001b[0m\n",
            "\u001b[?25hRequirement already satisfied: setuptools in /usr/local/lib/python3.10/dist-packages (from mp-api>=0.27.3->pymatgen->matminer==0.8.0) (67.7.2)\n",
            "Requirement already satisfied: typing-extensions>=3.7.4.1 in /usr/local/lib/python3.10/dist-packages (from mp-api>=0.27.3->pymatgen->matminer==0.8.0) (4.5.0)\n",
            "Requirement already satisfied: msgpack in /usr/local/lib/python3.10/dist-packages (from mp-api>=0.27.3->pymatgen->matminer==0.8.0) (1.0.5)\n",
            "Requirement already satisfied: tenacity>=6.2.0 in /usr/local/lib/python3.10/dist-packages (from plotly>=4.5.0->pymatgen->matminer==0.8.0) (8.2.2)\n",
            "Requirement already satisfied: six>=1.5 in /usr/local/lib/python3.10/dist-packages (from python-dateutil>=2.8.1->pandas->matminer==0.8.0) (1.16.0)\n",
            "Collecting ruamel.yaml.clib>=0.2.6\n",
            "  Downloading ruamel.yaml.clib-0.2.7-cp310-cp310-manylinux_2_17_x86_64.manylinux2014_x86_64.manylinux_2_24_x86_64.whl (485 kB)\n",
            "\u001b[2K     \u001b[90m━━━━━━━━━━━━━━━━━━━━━━━━━━━━━━━━━━━━━━\u001b[0m \u001b[32m485.6/485.6 kB\u001b[0m \u001b[31m27.9 MB/s\u001b[0m eta \u001b[36m0:00:00\u001b[0m\n",
            "\u001b[?25hCollecting latexcodec>=1.0.4\n",
            "  Downloading latexcodec-2.0.1-py2.py3-none-any.whl (18 kB)\n",
            "Requirement already satisfied: PyYAML>=3.01 in /usr/local/lib/python3.10/dist-packages (from pybtex->pymatgen->matminer==0.8.0) (6.0)\n",
            "Requirement already satisfied: pydantic>=1.10.2 in /usr/local/lib/python3.10/dist-packages (from emmet-core<=0.50.0->mp-api>=0.27.3->pymatgen->matminer==0.8.0) (1.10.7)\n",
            "Installing collected packages: uncertainties, spglib, ruamel.yaml.clib, monty, latexcodec, dnspython, ruamel.yaml, pymongo, pybtex, emmet-core, mp-api, pymatgen, matminer\n",
            "Successfully installed dnspython-2.3.0 emmet-core-0.50.0 latexcodec-2.0.1 matminer-0.8.0 monty-2023.4.10 mp-api-0.32.1 pybtex-0.24.0 pymatgen-2023.3.23 pymongo-4.3.3 ruamel.yaml-0.17.22 ruamel.yaml.clib-0.2.7 spglib-2.0.2 uncertainties-3.1.7\n",
            "Looking in indexes: https://pypi.org/simple, https://us-python.pkg.dev/colab-wheels/public/simple/\n",
            "Collecting pymatgen==2020.1.28\n",
            "  Downloading pymatgen-2020.1.28.tar.gz (2.6 MB)\n",
            "\u001b[2K     \u001b[90m━━━━━━━━━━━━━━━━━━━━━━━━━━━━━━━━━━━━━━━━\u001b[0m \u001b[32m2.6/2.6 MB\u001b[0m \u001b[31m15.3 MB/s\u001b[0m eta \u001b[36m0:00:00\u001b[0m\n",
            "\u001b[?25h  Preparing metadata (setup.py) ... \u001b[?25l\u001b[?25hdone\n",
            "Requirement already satisfied: numpy>=1.14.3 in /usr/local/lib/python3.10/dist-packages (from pymatgen==2020.1.28) (1.22.4)\n",
            "Requirement already satisfied: requests in /usr/local/lib/python3.10/dist-packages (from pymatgen==2020.1.28) (2.27.1)\n",
            "Requirement already satisfied: ruamel.yaml>=0.15.6 in /usr/local/lib/python3.10/dist-packages (from pymatgen==2020.1.28) (0.17.22)\n",
            "Requirement already satisfied: monty>=3.0.2 in /usr/local/lib/python3.10/dist-packages (from pymatgen==2020.1.28) (2023.4.10)\n",
            "Requirement already satisfied: scipy>=1.0.1 in /usr/local/lib/python3.10/dist-packages (from pymatgen==2020.1.28) (1.10.1)\n",
            "Collecting pydispatcher>=2.0.5\n",
            "  Downloading PyDispatcher-2.0.7-py3-none-any.whl (12 kB)\n",
            "Requirement already satisfied: tabulate in /usr/local/lib/python3.10/dist-packages (from pymatgen==2020.1.28) (0.8.10)\n",
            "Requirement already satisfied: spglib>=1.9.9.44 in /usr/local/lib/python3.10/dist-packages (from pymatgen==2020.1.28) (2.0.2)\n",
            "Requirement already satisfied: networkx>=2.2 in /usr/local/lib/python3.10/dist-packages (from pymatgen==2020.1.28) (3.1)\n",
            "Requirement already satisfied: matplotlib>=1.5 in /usr/local/lib/python3.10/dist-packages (from pymatgen==2020.1.28) (3.7.1)\n",
            "Requirement already satisfied: palettable>=3.1.1 in /usr/local/lib/python3.10/dist-packages (from pymatgen==2020.1.28) (3.3.3)\n",
            "Requirement already satisfied: sympy in /usr/local/lib/python3.10/dist-packages (from pymatgen==2020.1.28) (1.11.1)\n",
            "Requirement already satisfied: pandas in /usr/local/lib/python3.10/dist-packages (from pymatgen==2020.1.28) (1.5.3)\n",
            "Requirement already satisfied: fonttools>=4.22.0 in /usr/local/lib/python3.10/dist-packages (from matplotlib>=1.5->pymatgen==2020.1.28) (4.39.3)\n",
            "Requirement already satisfied: kiwisolver>=1.0.1 in /usr/local/lib/python3.10/dist-packages (from matplotlib>=1.5->pymatgen==2020.1.28) (1.4.4)\n",
            "Requirement already satisfied: python-dateutil>=2.7 in /usr/local/lib/python3.10/dist-packages (from matplotlib>=1.5->pymatgen==2020.1.28) (2.8.2)\n",
            "Requirement already satisfied: packaging>=20.0 in /usr/local/lib/python3.10/dist-packages (from matplotlib>=1.5->pymatgen==2020.1.28) (23.1)\n",
            "Requirement already satisfied: pillow>=6.2.0 in /usr/local/lib/python3.10/dist-packages (from matplotlib>=1.5->pymatgen==2020.1.28) (8.4.0)\n",
            "Requirement already satisfied: pyparsing>=2.3.1 in /usr/local/lib/python3.10/dist-packages (from matplotlib>=1.5->pymatgen==2020.1.28) (3.0.9)\n",
            "Requirement already satisfied: cycler>=0.10 in /usr/local/lib/python3.10/dist-packages (from matplotlib>=1.5->pymatgen==2020.1.28) (0.11.0)\n",
            "Requirement already satisfied: contourpy>=1.0.1 in /usr/local/lib/python3.10/dist-packages (from matplotlib>=1.5->pymatgen==2020.1.28) (1.0.7)\n",
            "Requirement already satisfied: ruamel.yaml.clib>=0.2.6 in /usr/local/lib/python3.10/dist-packages (from ruamel.yaml>=0.15.6->pymatgen==2020.1.28) (0.2.7)\n",
            "Requirement already satisfied: pytz>=2020.1 in /usr/local/lib/python3.10/dist-packages (from pandas->pymatgen==2020.1.28) (2022.7.1)\n",
            "Requirement already satisfied: idna<4,>=2.5 in /usr/local/lib/python3.10/dist-packages (from requests->pymatgen==2020.1.28) (3.4)\n",
            "Requirement already satisfied: urllib3<1.27,>=1.21.1 in /usr/local/lib/python3.10/dist-packages (from requests->pymatgen==2020.1.28) (1.26.15)\n",
            "Requirement already satisfied: certifi>=2017.4.17 in /usr/local/lib/python3.10/dist-packages (from requests->pymatgen==2020.1.28) (2022.12.7)\n",
            "Requirement already satisfied: charset-normalizer~=2.0.0 in /usr/local/lib/python3.10/dist-packages (from requests->pymatgen==2020.1.28) (2.0.12)\n",
            "Requirement already satisfied: mpmath>=0.19 in /usr/local/lib/python3.10/dist-packages (from sympy->pymatgen==2020.1.28) (1.3.0)\n",
            "Requirement already satisfied: six>=1.5 in /usr/local/lib/python3.10/dist-packages (from python-dateutil>=2.7->matplotlib>=1.5->pymatgen==2020.1.28) (1.16.0)\n",
            "Building wheels for collected packages: pymatgen\n",
            "  \u001b[1;31merror\u001b[0m: \u001b[1msubprocess-exited-with-error\u001b[0m\n",
            "  \n",
            "  \u001b[31m×\u001b[0m \u001b[32mpython setup.py bdist_wheel\u001b[0m did not run successfully.\n",
            "  \u001b[31m│\u001b[0m exit code: \u001b[1;36m1\u001b[0m\n",
            "  \u001b[31m╰─>\u001b[0m See above for output.\n",
            "  \n",
            "  \u001b[1;35mnote\u001b[0m: This error originates from a subprocess, and is likely not a problem with pip.\n",
            "  Building wheel for pymatgen (setup.py) ... \u001b[?25lerror\n",
            "\u001b[31m  ERROR: Failed building wheel for pymatgen\u001b[0m\u001b[31m\n",
            "\u001b[0m\u001b[?25h  Running setup.py clean for pymatgen\n",
            "Failed to build pymatgen\n",
            "Installing collected packages: pydispatcher, pymatgen\n",
            "  Attempting uninstall: pymatgen\n",
            "    Found existing installation: pymatgen 2023.3.23\n",
            "    Uninstalling pymatgen-2023.3.23:\n",
            "      Successfully uninstalled pymatgen-2023.3.23\n",
            "  \u001b[1;31merror\u001b[0m: \u001b[1msubprocess-exited-with-error\u001b[0m\n",
            "  \n",
            "  \u001b[31m×\u001b[0m \u001b[32mRunning setup.py install for pymatgen\u001b[0m did not run successfully.\n",
            "  \u001b[31m│\u001b[0m exit code: \u001b[1;36m1\u001b[0m\n",
            "  \u001b[31m╰─>\u001b[0m See above for output.\n",
            "  \n",
            "  \u001b[1;35mnote\u001b[0m: This error originates from a subprocess, and is likely not a problem with pip.\n",
            "  Running setup.py install for pymatgen ... \u001b[?25l\u001b[?25herror\n",
            "  Rolling back uninstall of pymatgen\n",
            "  Moving to /usr/local/bin/feff_plot_cross_section\n",
            "   from /tmp/pip-uninstall-7ogekitg/feff_plot_cross_section\n",
            "  Moving to /usr/local/bin/feff_plot_dos\n",
            "   from /tmp/pip-uninstall-7ogekitg/feff_plot_dos\n",
            "  Moving to /usr/local/bin/gaussian_analyzer\n",
            "   from /tmp/pip-uninstall-7ogekitg/gaussian_analyzer\n",
            "  Moving to /usr/local/bin/get_environment\n",
            "   from /tmp/pip-uninstall-7ogekitg/get_environment\n",
            "  Moving to /usr/local/bin/pmg\n",
            "   from /tmp/pip-uninstall-7ogekitg/pmg\n",
            "  Moving to /usr/local/lib/python3.10/dist-packages/cmd_line/bader/Linux_64bit/\n",
            "   from /usr/local/lib/python3.10/dist-packages/cmd_line/bader/~inux_64bit\n",
            "  Moving to /usr/local/lib/python3.10/dist-packages/cmd_line/boltztrap/Darwin_64bit/\n",
            "   from /usr/local/lib/python3.10/dist-packages/cmd_line/boltztrap/~arwin_64bit\n",
            "  Moving to /usr/local/lib/python3.10/dist-packages/cmd_line/boltztrap/Linux_64bit/\n",
            "   from /usr/local/lib/python3.10/dist-packages/cmd_line/boltztrap/~inux_64bit\n",
            "  Moving to /usr/local/lib/python3.10/dist-packages/cmd_line/enum/\n",
            "   from /usr/local/lib/python3.10/dist-packages/cmd_line/~num\n",
            "  Moving to /usr/local/lib/python3.10/dist-packages/cmd_line/gulp/Libraries/\n",
            "   from /usr/local/lib/python3.10/dist-packages/cmd_line/gulp/~ibraries\n",
            "  Moving to /usr/local/lib/python3.10/dist-packages/cmd_line/gulp/Linux_64bit/\n",
            "   from /usr/local/lib/python3.10/dist-packages/cmd_line/gulp/~inux_64bit\n",
            "  Moving to /usr/local/lib/python3.10/dist-packages/cmd_line/packmol/Linux_64bit/\n",
            "   from /usr/local/lib/python3.10/dist-packages/cmd_line/packmol/~inux_64bit\n",
            "  Moving to /usr/local/lib/python3.10/dist-packages/pymatgen-2023.3.23.dist-info/\n",
            "   from /usr/local/lib/python3.10/dist-packages/~ymatgen-2023.3.23.dist-info\n",
            "  Moving to /usr/local/lib/python3.10/dist-packages/pymatgen.libs/\n",
            "   from /usr/local/lib/python3.10/dist-packages/~ymatgen.libs\n",
            "  Moving to /usr/local/lib/python3.10/dist-packages/pymatgen/alchemy/\n",
            "   from /usr/local/lib/python3.10/dist-packages/pymatgen/~lchemy\n",
            "  Moving to /usr/local/lib/python3.10/dist-packages/pymatgen/analysis/\n",
            "   from /usr/local/lib/python3.10/dist-packages/pymatgen/~nalysis\n",
            "  Moving to /usr/local/lib/python3.10/dist-packages/pymatgen/apps/\n",
            "   from /usr/local/lib/python3.10/dist-packages/pymatgen/~pps\n",
            "  Moving to /usr/local/lib/python3.10/dist-packages/pymatgen/cli/\n",
            "   from /usr/local/lib/python3.10/dist-packages/pymatgen/~li\n",
            "  Moving to /usr/local/lib/python3.10/dist-packages/pymatgen/command_line/\n",
            "   from /usr/local/lib/python3.10/dist-packages/pymatgen/~ommand_line\n",
            "  Moving to /usr/local/lib/python3.10/dist-packages/pymatgen/core/\n",
            "   from /usr/local/lib/python3.10/dist-packages/pymatgen/~ore\n",
            "  Moving to /usr/local/lib/python3.10/dist-packages/pymatgen/electronic_structure/\n",
            "   from /usr/local/lib/python3.10/dist-packages/pymatgen/~lectronic_structure\n",
            "  Moving to /usr/local/lib/python3.10/dist-packages/pymatgen/entries/\n",
            "   from /usr/local/lib/python3.10/dist-packages/pymatgen/~ntries\n",
            "  Moving to /usr/local/lib/python3.10/dist-packages/pymatgen/ext/\n",
            "   from /usr/local/lib/python3.10/dist-packages/pymatgen/~xt\n",
            "  Moving to /usr/local/lib/python3.10/dist-packages/pymatgen/io/\n",
            "   from /usr/local/lib/python3.10/dist-packages/pymatgen/~o\n",
            "  Moving to /usr/local/lib/python3.10/dist-packages/pymatgen/optimization/\n",
            "   from /usr/local/lib/python3.10/dist-packages/pymatgen/~ptimization\n",
            "  Moving to /usr/local/lib/python3.10/dist-packages/pymatgen/phonon/\n",
            "   from /usr/local/lib/python3.10/dist-packages/pymatgen/~honon\n",
            "  Moving to /usr/local/lib/python3.10/dist-packages/pymatgen/symmetry/\n",
            "   from /usr/local/lib/python3.10/dist-packages/pymatgen/~ymmetry\n",
            "  Moving to /usr/local/lib/python3.10/dist-packages/pymatgen/transformations/\n",
            "   from /usr/local/lib/python3.10/dist-packages/pymatgen/~ransformations\n",
            "  Moving to /usr/local/lib/python3.10/dist-packages/pymatgen/util/\n",
            "   from /usr/local/lib/python3.10/dist-packages/pymatgen/~til\n",
            "  Moving to /usr/local/lib/python3.10/dist-packages/pymatgen/vis/\n",
            "   from /usr/local/lib/python3.10/dist-packages/pymatgen/~is\n",
            "\u001b[1;31merror\u001b[0m: \u001b[1mlegacy-install-failure\u001b[0m\n",
            "\n",
            "\u001b[31m×\u001b[0m Encountered error while trying to install package.\n",
            "\u001b[31m╰─>\u001b[0m pymatgen\n",
            "\n",
            "\u001b[1;35mnote\u001b[0m: This is an issue with the package mentioned above, not pip.\n",
            "\u001b[1;36mhint\u001b[0m: See above for output from the failure.\n",
            "Looking in indexes: https://pypi.org/simple, https://us-python.pkg.dev/colab-wheels/public/simple/\n",
            "\u001b[31mERROR: Could not find a version that satisfies the requirement scikit_learn==0.22.2 (from versions: 0.9, 0.10, 0.11, 0.12, 0.12.1, 0.13, 0.13.1, 0.14, 0.14.1, 0.15.0, 0.15.1, 0.15.2, 0.16.0, 0.16.1, 0.17, 0.17.1, 0.18, 0.18.1, 0.18.2, 0.19.0, 0.19.1, 0.19.2, 0.20.0, 0.20.1, 0.20.2, 0.20.3, 0.20.4, 0.21.1, 0.21.2, 0.21.3, 0.22, 0.22.1, 0.22.2.post1, 0.23.0, 0.23.1, 0.23.2, 0.24.0, 0.24.1, 0.24.2, 1.0, 1.0.1, 1.0.2, 1.1.0, 1.1.1, 1.1.2, 1.1.3, 1.2.0rc1, 1.2.0, 1.2.1, 1.2.2)\u001b[0m\u001b[31m\n",
            "\u001b[0m\u001b[31mERROR: No matching distribution found for scikit_learn==0.22.2\u001b[0m\u001b[31m\n",
            "\u001b[0mLooking in indexes: https://pypi.org/simple, https://us-python.pkg.dev/colab-wheels/public/simple/\n",
            "Collecting shap==0.38.1\n",
            "  Downloading shap-0.38.1.tar.gz (352 kB)\n",
            "\u001b[2K     \u001b[90m━━━━━━━━━━━━━━━━━━━━━━━━━━━━━━━━━━━━━━\u001b[0m \u001b[32m352.4/352.4 kB\u001b[0m \u001b[31m11.8 MB/s\u001b[0m eta \u001b[36m0:00:00\u001b[0m\n",
            "\u001b[?25h  Preparing metadata (setup.py) ... \u001b[?25l\u001b[?25hdone\n",
            "Requirement already satisfied: numpy in /usr/local/lib/python3.10/dist-packages (from shap==0.38.1) (1.22.4)\n",
            "Requirement already satisfied: scipy in /usr/local/lib/python3.10/dist-packages (from shap==0.38.1) (1.10.1)\n",
            "Requirement already satisfied: scikit-learn in /usr/local/lib/python3.10/dist-packages (from shap==0.38.1) (1.2.2)\n",
            "Requirement already satisfied: pandas in /usr/local/lib/python3.10/dist-packages (from shap==0.38.1) (1.5.3)\n",
            "Requirement already satisfied: tqdm>4.25.0 in /usr/local/lib/python3.10/dist-packages (from shap==0.38.1) (4.65.0)\n",
            "Collecting slicer==0.0.7\n",
            "  Downloading slicer-0.0.7-py3-none-any.whl (14 kB)\n",
            "Requirement already satisfied: numba in /usr/local/lib/python3.10/dist-packages (from shap==0.38.1) (0.56.4)\n",
            "Requirement already satisfied: cloudpickle in /usr/local/lib/python3.10/dist-packages (from shap==0.38.1) (2.2.1)\n",
            "Requirement already satisfied: setuptools in /usr/local/lib/python3.10/dist-packages (from numba->shap==0.38.1) (67.7.2)\n",
            "Requirement already satisfied: llvmlite<0.40,>=0.39.0dev0 in /usr/local/lib/python3.10/dist-packages (from numba->shap==0.38.1) (0.39.1)\n",
            "Requirement already satisfied: pytz>=2020.1 in /usr/local/lib/python3.10/dist-packages (from pandas->shap==0.38.1) (2022.7.1)\n",
            "Requirement already satisfied: python-dateutil>=2.8.1 in /usr/local/lib/python3.10/dist-packages (from pandas->shap==0.38.1) (2.8.2)\n",
            "Requirement already satisfied: joblib>=1.1.1 in /usr/local/lib/python3.10/dist-packages (from scikit-learn->shap==0.38.1) (1.2.0)\n",
            "Requirement already satisfied: threadpoolctl>=2.0.0 in /usr/local/lib/python3.10/dist-packages (from scikit-learn->shap==0.38.1) (3.1.0)\n",
            "Requirement already satisfied: six>=1.5 in /usr/local/lib/python3.10/dist-packages (from python-dateutil>=2.8.1->pandas->shap==0.38.1) (1.16.0)\n",
            "Building wheels for collected packages: shap\n",
            "  Building wheel for shap (setup.py) ... \u001b[?25l\u001b[?25hdone\n",
            "  Created wheel for shap: filename=shap-0.38.1-cp310-cp310-linux_x86_64.whl size=533932 sha256=3e8c99dd2d96449f845707150c40c5dfb236607a25159c13c780ad6c2b28be7d\n",
            "  Stored in directory: /root/.cache/pip/wheels/0c/d7/54/266e609c1229cc4160522eb7d5fe6cb3308ffffc8d0b13a52b\n",
            "Successfully built shap\n",
            "Installing collected packages: slicer, shap\n",
            "Successfully installed shap-0.38.1 slicer-0.0.7\n"
          ]
        }
      ],
      "source": [
        "%pip install matminer==0.8.0\n",
        "%pip install pymatgen==2020.1.28\n",
        "%pip install scikit_learn==0.22.2\n",
        "%pip install shap==0.38.1"
      ]
    },
    {
      "cell_type": "markdown",
      "metadata": {
        "id": "AoyeFhdQCtDR"
      },
      "source": [
        "Importing the necessary modules"
      ]
    },
    {
      "cell_type": "code",
      "execution_count": 2,
      "metadata": {
        "id": "EtxeRmoT4lVG"
      },
      "outputs": [],
      "source": [
        "import numpy as np\n",
        "import pandas as pd\n",
        "import shap\n",
        "import sklearn\n",
        "from matminer.featurizers import composition as cf\n",
        "from matminer.featurizers.base import MultipleFeaturizer\n",
        "from pymatgen.core import Composition\n",
        "from sklearn.ensemble import RandomForestRegressor\n",
        "from sklearn.metrics import mean_absolute_error, mean_squared_error\n",
        "from sklearn.model_selection import train_test_split"
      ]
    },
    {
      "cell_type": "markdown",
      "metadata": {
        "id": "X0FRvEHJCtDT"
      },
      "source": [
        "Defining functions for efficiently extracting materials features"
      ]
    },
    {
      "cell_type": "code",
      "execution_count": 3,
      "metadata": {
        "id": "jf6A37ww44Dq"
      },
      "outputs": [],
      "source": [
        "def get_compostion(c):\n",
        "    \"\"\"Function to get compositions from chemical formula using pymatgen\"\"\"\n",
        "    try:\n",
        "        return Composition(c)\n",
        "    except:  # noqa: E722\n",
        "        return None\n",
        "\n",
        "\n",
        "def featurizing(data, property_interest=None):\n",
        "\n",
        "    # Featurizer\n",
        "    f = MultipleFeaturizer(\n",
        "        [\n",
        "            cf.Stoichiometry(),\n",
        "            cf.ElementProperty.from_preset(\"magpie\"),\n",
        "            cf.ValenceOrbital(props=[\"avg\"]),\n",
        "            cf.IonProperty(fast=True),\n",
        "        ]\n",
        "    )\n",
        "\n",
        "    # Inputs\n",
        "    data[\"composition\"] = [get_compostion(mat) for mat in data.Components]\n",
        "\n",
        "    featurized_data = pd.DataFrame(\n",
        "        f.featurize_many(data[\"composition\"], ignore_errors=True),\n",
        "        columns=f.feature_labels(),\n",
        "        index=data[\"Components\"],\n",
        "    )\n",
        "    if property_interest:\n",
        "        featurized_data[property_interest] = data[property_interest].values\n",
        "    return featurized_data"
      ]
    },
    {
      "cell_type": "markdown",
      "metadata": {
        "id": "WJOd_b3Ehbzw"
      },
      "source": [
        "## Data handling\n",
        "\n",
        "In this section we import the Superconductors database (two columns: brute formula and critical Temperature), extracting composition based features; we thus drop rows where at least a NaN (i.e., Not a Number) value occurs. The features represent the *translation* of chemical formulae into numbers, corresponding to the characteristics of such materials; this is necessary, since the ML works with the numbers. It is the equivalent of length and width of sepals and petals in the iris database (already seen in the first introductory lecture to Python), with the only difference that in this case we want to perform a regression of a scalar quantity (the critical Temperature) and not a classification over the type of flower.\n",
        "\n",
        "If you want to know the meaning of those 145 features, please check here https://www.nature.com/articles/npjcompumats201628?report=reader (and in the corresponding supplementary material, pdf). \n",
        "\n",
        "In brief, they are:\n",
        "* **Stoichiometric attributes** that depend only on the fractions of elements present and not what those elements actually are\n",
        "* **Elemental property statistics**, which are defined as the mean, mean absolute deviation, range, minimum, maximum and mode of 22 different elemental properties.\n",
        "* **Electronic structure attributes**, which are the average fraction of electrons from the *s*, *p*, *d* and *f* valence shells between all present elements.\n",
        "* **Ionic compound attributes** that include whether it is possible to form an ionic compound assuming all elements are present in a single oxidation state.\n"
      ]
    },
    {
      "cell_type": "markdown",
      "metadata": {
        "id": "nOOUds-qCtDX"
      },
      "source": [
        "Downloading the database"
      ]
    },
    {
      "cell_type": "code",
      "execution_count": null,
      "metadata": {
        "id": "-xf8zxuKCtDY"
      },
      "outputs": [],
      "source": [
        "# source National Institute of Materials Science, Materials Information Station,\n",
        "# SuperCon, http://supercon.nims.go.jp/index_en.html (2011)\n",
        "\n",
        "!wget https://raw.githubusercontent.com/paolodeangelis/AEM/main/data/Supercon_data_clean.xlsx"
      ]
    },
    {
      "cell_type": "code",
      "execution_count": 5,
      "metadata": {
        "id": "kTutyBek5CeZ"
      },
      "outputs": [],
      "source": [
        "data = pd.read_excel(r\"Supercon_data_clean.xlsx\")  # Import data"
      ]
    },
    {
      "cell_type": "code",
      "execution_count": null,
      "metadata": {
        "id": "sDyqH2PoobuY"
      },
      "outputs": [],
      "source": [
        "Featurized_data = featurizing(data, \"Tc\")  # Extract composition based features"
      ]
    },
    {
      "cell_type": "code",
      "execution_count": 7,
      "metadata": {
        "id": "fyi9Z2DUoilV"
      },
      "outputs": [],
      "source": [
        "Featurized_data = Featurized_data.dropna()"
      ]
    },
    {
      "cell_type": "code",
      "execution_count": null,
      "metadata": {
        "id": "Iok3sybKAnHW"
      },
      "outputs": [],
      "source": [
        "Featurized_data"
      ]
    },
    {
      "cell_type": "markdown",
      "metadata": {
        "id": "Rv8Yr6gDAF5F"
      },
      "source": [
        "### **Data for the report**\n",
        "Each group will perform the excercise with a different dataset. Your dataset will be obtained by picking 2000 rows from the original one (containing 12914 rows). The selection procedure of those rows is randomic; to ensure the *randomness reproducibility* we set a random state by means of a SEED. The value of the SEED has to be equal to the number of your group.\n",
        "\n",
        "**In the cell below, set the SEED equal to your group number.**\n",
        "\n",
        "The 2000 random rows are picked by setting the variable N_data equal to 2000.\n",
        "\n",
        "**In the cell below, set the N_data equal to 2000.**"
      ]
    },
    {
      "cell_type": "code",
      "source": [
        "SEED = \n",
        "N_data = "
      ],
      "metadata": {
        "id": "zx2HmkWdXeSJ"
      },
      "execution_count": null,
      "outputs": []
    },
    {
      "cell_type": "code",
      "execution_count": 8,
      "metadata": {
        "id": "iyOQdwbD7JsZ"
      },
      "outputs": [],
      "source": [
        "Featurized_data = Featurized_data.sample(n=N_data, random_state=SEED)"
      ]
    },
    {
      "cell_type": "code",
      "execution_count": null,
      "metadata": {
        "id": "oVcpdeQm7Vv_"
      },
      "outputs": [],
      "source": [
        "Featurized_data"
      ]
    },
    {
      "cell_type": "markdown",
      "metadata": {
        "id": "lsstDKLoCNaB"
      },
      "source": [
        "## Machine Learning\n",
        "In this section we train and validate a Random Forest Regressor for constructing a model which predicts the critical temperature of materials, on the basis of their chemical composition."
      ]
    },
    {
      "cell_type": "markdown",
      "metadata": {
        "id": "Qcdya8AIC2cW"
      },
      "source": [
        "#### **Training and testing sets**\n",
        "We split the 2000 rows long dataset (obtained in the previous section) in a training set (80% of 2000 rows = 1600 rows) and a testing set (20% of 2000 rows = 400 rows). The split is randomic. To ensure *randomness reproducibility* we set the usual random state. The value of the random state has to be equal to the number of your group."
      ]
    },
    {
      "cell_type": "code",
      "execution_count": 10,
      "metadata": {
        "id": "fwavCrnI5dd0"
      },
      "outputs": [],
      "source": [
        "train_df, test_df = train_test_split(\n",
        "    Featurized_data, test_size=0.2, random_state=SEED\n",
        ")  # split data in training set (80% of the dataset) and testing set (20% of the dataset)"
      ]
    },
    {
      "cell_type": "markdown",
      "metadata": {
        "id": "GWKIEdwRD-Gj"
      },
      "source": [
        "#### **Machine Learning model definition**\n",
        "As Machine Learning model for doing regression we choose a Random Forest Regressor.\n",
        "\n",
        "* Since it is affected by randomness, we set the usual random state (it has to be equal to the number of your group).\n",
        "\n",
        "* The only hyperparameter we consider is the number of estimators (number of trees is the forest). It has to be equal to 100\n",
        "\n",
        "**To achieve this, in the cell below set the variable N_trees equal to 100**"
      ]
    },
    {
      "cell_type": "code",
      "source": [
        "N_trees = "
      ],
      "metadata": {
        "id": "soqdwBC4ZMFZ"
      },
      "execution_count": null,
      "outputs": []
    },
    {
      "cell_type": "code",
      "execution_count": 11,
      "metadata": {
        "id": "K81kHs0F76Of"
      },
      "outputs": [],
      "source": [
        "rf = RandomForestRegressor(random_state=SEED, n_estimators=N_Trees)"
      ]
    },
    {
      "cell_type": "markdown",
      "metadata": {
        "id": "JmltcRgsIvBV"
      },
      "source": [
        "#### **Model training**\n",
        "We effectively train the model rf (defined in the previous cell) with the command ```rf.fit(X_training_set, y_training_set)```\n",
        "\n"
      ]
    },
    {
      "cell_type": "code",
      "execution_count": null,
      "metadata": {
        "id": "2PhT4LXP8IA6"
      },
      "outputs": [],
      "source": [
        "rf.fit(train_df.iloc[:, :-1], train_df.iloc[:, -1])"
      ]
    },
    {
      "cell_type": "markdown",
      "metadata": {
        "id": "HYukv4bMig_c"
      },
      "source": [
        "#### **Model performances**\n",
        "We compare the real critical temperature of the materials in the testing set, with the corresponding values predicted by the trained model.\n",
        "We check those performances by means of three measures:\n",
        "* coefficient of determination $R^2$, defined as\n",
        "\\begin{equation}\n",
        "R^2(\\mathbf{y}, {\\mathbf{\\hat{y}}}) = 1-\\frac{\\sum_{i=1}^k(y_i-\\hat{y_i})^2}{\\sum_{i=1}^k(y_i-\\overline{y})^2}\n",
        "\\end{equation}\n",
        "where $\\mathbf{y}$ is the $k-$dimensional vector of real values, $\\mathbf{\\hat{y}}$ is the $k-$dimensional vector of predicted values, $\\overline{y}=k^{-1}∑_{i=1}^ky_i$ is the average over real values. $R^2= 1$ if the prediction is perfect (i.e., all the red dots are on the blue line, with $y_i=\\hat{y_i}, \\forall i\\in[1,\\dots, k]$).\n",
        "\n",
        "* Mean Absolute Error $\\mathrm{MAE}$, defined as\n",
        "\\begin{equation}\n",
        "\\mathrm{MAE}(\\mathbf{y}, {\\mathbf{\\hat{y}}}) = \\frac{1}{k}\\sum_{i=1}^k|y_i - \\hat{y_i}|\n",
        "\\end{equation}\n",
        "with the same meaning of the notation.\n",
        "\n",
        "* Root Mean Squared Error $\\mathrm{RMSE}$\n",
        "\\begin{equation}\n",
        "\\mathrm{RMSE}(\\mathbf{y}, {\\mathbf{\\hat{y}}}) = \\left(\\frac{1}{k}\\sum_{i=1}^k(y_i - \\hat{y_i})^2 \\right)^{1/2}\n",
        "\\end{equation}\n",
        "with the same meaning of the notation.\n",
        "\n",
        "In our case, $k$ is the length (i.e., the number of materials) of the testing set."
      ]
    },
    {
      "cell_type": "code",
      "execution_count": 13,
      "metadata": {
        "colab": {
          "base_uri": "https://localhost:8080/",
          "height": 577
        },
        "id": "CUvMrcvv8Voc",
        "outputId": "c80fdb5d-073b-4113-db09-b3e04ab88df5"
      },
      "outputs": [
        {
          "output_type": "display_data",
          "data": {
            "text/plain": [
              "<Figure size 570x570 with 1 Axes>"
            ],
            "image/png": "[encoded data removed]"
          },
          "metadata": {}
        }
      ],
      "source": [
        "test_predictions = rf.predict(\n",
        "    test_df.iloc[:, :-1]\n",
        ")  # Predicted y over samples of the testing set\n",
        "test_labels = test_df.iloc[:, -1].values  # True y over samples of the testing set\n",
        "\n",
        "r2 = sklearn.metrics.r2_score(\n",
        "    test_labels, test_predictions\n",
        ")  # coefficient of determination\n",
        "mae = mean_absolute_error(test_labels, test_predictions)  # mean absolute error\n",
        "rmse = np.sqrt(\n",
        "    mean_squared_error(test_labels, test_predictions)\n",
        ")  # root mean squared error\n",
        "delta = max(test_labels) - min(test_labels)\n",
        "\n",
        "import matplotlib.pyplot as plt\n",
        "\n",
        "plt.figure(figsize=(3, 3), dpi=190)\n",
        "plt.scatter(test_labels, test_predictions, c=\"crimson\", alpha=0.2)\n",
        "p1 = max(max(test_predictions), max(test_labels))\n",
        "p2 = min(min(test_predictions), min(test_labels))\n",
        "plt.plot([p1, p2], [p1, p2], \"b-\")\n",
        "plt.annotate(\n",
        "    \"$R^2$ = %0.3f\" % r2,\n",
        "    xy=(0.02 * delta, 0.95 * delta),\n",
        "    xytext=(0.02 * delta, 0.95 * delta),\n",
        ")\n",
        "plt.annotate(\n",
        "    \"MAE = %0.2f K\" % mae,\n",
        "    xy=(0.02 * delta, 0.85 * delta),\n",
        "    xytext=(0.02 * delta, 0.85 * delta),\n",
        ")\n",
        "plt.annotate(\n",
        "    \"RMSE = %0.2f K\" % rmse,\n",
        "    xy=(0.02 * delta, 0.75 * delta),\n",
        "    xytext=(0.02 * delta, 0.75 * delta),\n",
        ")\n",
        "plt.xlabel(r\"True $T_\\mathrm{c}$ (K)\")\n",
        "plt.ylabel(r\"Predicted $T_\\mathrm{c}$ (K)\")\n",
        "plt.show()"
      ]
    },
    {
      "cell_type": "markdown",
      "source": [
        "**WARNING**: The figure above could in principle show either very bad performances and very good performances. DON'T WORRY: it's normal, it depends on how much you are lucky in picking the random rows from the original database. You will not get worse grade for bad performances of the model.  "
      ],
      "metadata": {
        "id": "J3rpfaXpZeKd"
      }
    },
    {
      "cell_type": "markdown",
      "metadata": {
        "id": "aS5lBPy_9oIy"
      },
      "source": [
        "## Interpretability\n",
        "Thanks to the TreeSHAP algorithm, we can find the most relevant features, ranking them in terms of importance with respect to the output."
      ]
    },
    {
      "cell_type": "code",
      "execution_count": 14,
      "metadata": {
        "id": "xv7w7oJk9qDN"
      },
      "outputs": [],
      "source": [
        "explainer = shap.TreeExplainer(rf)\n",
        "shap_values = explainer.shap_values(test_df.iloc[:, :-1])"
      ]
    },
    {
      "cell_type": "markdown",
      "metadata": {
        "id": "cnD2_MJdwj7g"
      },
      "source": [
        "#### **Cumulative of normalized feature importances**\n",
        "We produce the cumulative curve of normalized importances. The number of features explaining the 75% of the model is shown. "
      ]
    },
    {
      "cell_type": "code",
      "execution_count": 15,
      "metadata": {
        "colab": {
          "base_uri": "https://localhost:8080/",
          "height": 574
        },
        "id": "lD3-Yk7-9xHO",
        "outputId": "8c75932e-bcad-4f4f-b16c-b1f274dae77a"
      },
      "outputs": [
        {
          "output_type": "display_data",
          "data": {
            "text/plain": [
              "<Figure size 570x570 with 1 Axes>"
            ],
            "image/png": "[encoded data removed]"
          },
          "metadata": {}
        }
      ],
      "source": [
        "N = np.shape(test_df.iloc[:, :-1])[1]\n",
        "k = 0.75\n",
        "import matplotlib.pyplot as plt\n",
        "\n",
        "cumsum = np.cumsum(np.sort(np.mean(abs(shap_values), axis=0))[::-1])\n",
        "normalized_cumulative = np.cumsum(np.sort(np.mean(abs(shap_values), axis=0))[::-1]) / (\n",
        "    np.max(np.cumsum(np.sort(np.mean(abs(shap_values), axis=0))[::-1]))\n",
        ")\n",
        "\n",
        "\n",
        "fig, ax = plt.subplots(figsize=(3, 3), dpi=190)\n",
        "ax.plot(np.arange(N), normalized_cumulative)\n",
        "ax.plot(np.arange(N), k * np.ones(N))\n",
        "ind_cross1 = np.argmin(\n",
        "    np.fabs(normalized_cumulative - k * max(normalized_cumulative) * np.ones(N))\n",
        ")\n",
        "# plt.yticks(np.array([0, 0.5, 1]))\n",
        "\n",
        "ax.annotate(\n",
        "    \"%i features\" % (ind_cross1 + 1),\n",
        "    xy=(ind_cross1 + 1, 0.01),\n",
        "    xytext=(ind_cross1 + 10, 0.2),\n",
        "    arrowprops=dict(facecolor=\"black\", shrink=0.000005, width=0.1, headwidth=4),\n",
        ")\n",
        "ax.annotate(\n",
        "    \"75% of\\nthe maximum\",\n",
        "    xy=(70, 0.73),\n",
        "    xytext=(80, 0.45),\n",
        "    arrowprops=dict(facecolor=\"black\", shrink=0.0005, width=0.1, headwidth=4),\n",
        ")\n",
        "plt.scatter(ind_cross1, normalized_cumulative[ind_cross1], color=\"orange\")\n",
        "plt.plot(\n",
        "    (ind_cross1, ind_cross1),\n",
        "    (normalized_cumulative[ind_cross1], 0),\n",
        "    color=\"orange\",\n",
        "    ls=\":\",\n",
        ")\n",
        "plt.ylim(0, 1.04)\n",
        "plt.xlabel(\"Features\")\n",
        "plt.ylabel(\"Normalized\\ncumulative importance\")\n",
        "plt.show()"
      ]
    },
    {
      "cell_type": "markdown",
      "source": [
        "The blue curve here above represents the cumulative curve of coefficients of importances. It takes all those coefficients and sorts them from the biggest to the smallest. For instance, the 15th point of this curve represents the sum of the first 15 coefficients. The overall sum is 1."
      ],
      "metadata": {
        "id": "ltl9wJOOaf91"
      }
    },
    {
      "cell_type": "markdown",
      "metadata": {
        "id": "k0TVTVPAxga2"
      },
      "source": [
        "#### **Ranking of normalized feature importances**\n",
        "We produce the dataset \"Output_mean_shap\" containing the list of features sorted in terms of the corresponding importance. Sum of importances is 1."
      ]
    },
    {
      "cell_type": "code",
      "execution_count": 16,
      "metadata": {
        "id": "H6X_BjiG-SHE"
      },
      "outputs": [],
      "source": [
        "Output_shap = pd.DataFrame(\n",
        "    shap_values, index=test_df.iloc[:, :-1].index, columns=test_df.iloc[:, :-1].columns\n",
        ")\n",
        "Output_mean_shap = pd.DataFrame(\n",
        "    abs(Output_shap).describe().loc[\"mean\"]\n",
        "    / sum(abs(Output_shap).describe().loc[\"mean\"])\n",
        ").sort_values(\"mean\", ascending=False)"
      ]
    },
    {
      "cell_type": "code",
      "execution_count": 17,
      "metadata": {
        "id": "TdH63GtL_sQF"
      },
      "outputs": [],
      "source": [
        "Output_mean_shap.to_excel(\n",
        "    \"Output_mean_shap.xlsx\"\n",
        ")  # list of the features ranked in terms of importance (importances sum up to 1)"
      ]
    },
    {
      "cell_type": "markdown",
      "metadata": {
        "id": "cWMR8AtlCQqI"
      },
      "source": [
        "## Sequential Learning\n",
        "We compare three Sequential Learning acquisition functions to choose the next material to be tested, starting from an initial pool of known materials. \n",
        "\n",
        "As regression methodology over the training set, we consider the Random Forest Regressor by lolopy (which has nothing to do with the random forest regressor used for the predictive model in the previous sections)."
      ]
    },
    {
      "cell_type": "code",
      "execution_count": null,
      "metadata": {
        "id": "5OU7UAQMCSjv"
      },
      "outputs": [],
      "source": [
        "%pip install lolopy"
      ]
    },
    {
      "cell_type": "code",
      "execution_count": 19,
      "metadata": {
        "id": "9stSxxOVCWLz"
      },
      "outputs": [],
      "source": [
        "import tqdm\n",
        "from lolopy.learners import RandomForestRegressor"
      ]
    },
    {
      "cell_type": "code",
      "execution_count": 20,
      "metadata": {
        "id": "Tb8wRb_qCavy"
      },
      "outputs": [],
      "source": [
        "def MEI(X: np.ndarray, y: np.ndarray, n_steps: int) -> int:\n",
        "    \"\"\"Acquisition functions MEI.\n",
        "\n",
        "    Args:\n",
        "        X (numpy.ndarray): matrix with n rows (number of total materials for\n",
        "            which doing the SL, in our case 100) and d columns (number of features\n",
        "            taken into account for the optimization)\n",
        "        y (numpy.ndarray): vector with n rows (target property)\n",
        "        n_steps (int): number of steps allowed for doing SL (in our case,\n",
        "            100 total materials - 50 materials in the initial training set\n",
        "            = maximum 50 steps to find the optimum)\n",
        "\n",
        "    Returns:\n",
        "        int: the index of the chosen material\n",
        "    \"\"\"\n",
        "\n",
        "    arr = y\n",
        "    minima = arr.argsort()[0:50]\n",
        "    in_train = np.zeros(len(X), dtype=np.bool)\n",
        "    in_train[minima] = True\n",
        "\n",
        "    all_inds = set(range(len(y)))\n",
        "    F = np.zeros(n_steps)\n",
        "    G = np.zeros(n_steps)\n",
        "    mei_train = [list(set(np.where(in_train)[0].tolist()))]\n",
        "    mei_train_inds = []\n",
        "\n",
        "    T = 10\n",
        "\n",
        "    for i in tqdm.tqdm(range(n_steps)):\n",
        "        mei_train_inds = mei_train[-1].copy()\n",
        "        mei_search_inds = list(all_inds.difference(mei_train_inds))\n",
        "\n",
        "        mei_selection_index = []\n",
        "        for j in range(T):\n",
        "            model.fit(X[mei_train_inds], y[mei_train_inds])\n",
        "            mei_y_pred_prov = model.predict(X[mei_search_inds])\n",
        "            mei_selection_index.append(np.argmax(mei_y_pred_prov))\n",
        "\n",
        "        mei_index_G = max(set(mei_selection_index), key=mei_selection_index.count)\n",
        "        mei_index = mei_search_inds[mei_index_G]  # Pick the most preferred entry\n",
        "        mei_train_inds.append(mei_search_inds[mei_index_G])\n",
        "        mei_train.append(mei_train_inds)\n",
        "        G[i] = mei_index\n",
        "        F[i] = mei_train_inds[-1]\n",
        "        if mei_train_inds[-1] == np.argmax(y):\n",
        "            break\n",
        "\n",
        "    return F\n",
        "\n",
        "\n",
        "def MLI(X: np.ndarray, y: np.ndarray, n_steps: int) -> int:\n",
        "    \"\"\"Acquisition functions MLI.\n",
        "\n",
        "    Args:\n",
        "        X (numpy.ndarray): matrix with n rows (number of total materials for\n",
        "            which doing the SL, in our case 100) and d columns (number of features\n",
        "            taken into account for the optimization)\n",
        "        y (numpy.ndarray): vector with n rows (target property)\n",
        "        n_steps (int): number of steps allowed for doing SL (in our case,\n",
        "            100 total materials - 50 materials in the initial training set\n",
        "            = maximum 50 steps to find the optimum)\n",
        "\n",
        "    Returns:\n",
        "        int: the index of the chosen material\n",
        "    \"\"\"\n",
        "    arr = y\n",
        "    minima = arr.argsort()[0:50]\n",
        "    in_train = np.zeros(len(X), dtype=np.bool)\n",
        "    in_train[minima] = True\n",
        "\n",
        "    all_inds = set(range(len(y)))\n",
        "    K = np.zeros(n_steps)\n",
        "    L = np.zeros(n_steps)\n",
        "    mli_train = [list(set(np.where(in_train)[0].tolist()))]\n",
        "    mli_train_inds = []\n",
        "\n",
        "    T = 10\n",
        "\n",
        "    for i in tqdm.tqdm(range(n_steps)):\n",
        "        mli_train_inds = mli_train[-1].copy()\n",
        "        mli_search_inds = list(all_inds.difference(mli_train_inds))\n",
        "\n",
        "        mli_selection_index = []\n",
        "        for j in range(T):\n",
        "            model.fit(X[mli_train_inds], y[mli_train_inds])\n",
        "            mli_y_pred_prov, mli_y_std_prov = model.predict(\n",
        "                X[mli_search_inds], return_std=True\n",
        "            )\n",
        "            mli_selection_index.append(\n",
        "                np.argmax(\n",
        "                    np.divide(\n",
        "                        mli_y_pred_prov - np.max(y[mli_train_inds]), mli_y_std_prov\n",
        "                    )\n",
        "                )\n",
        "            )\n",
        "\n",
        "        mli_index_L = max(set(mli_selection_index), key=mli_selection_index.count)\n",
        "        mli_index = mli_search_inds[mli_index_L]  # Pick the most preferred entry\n",
        "\n",
        "        mli_train_inds.append(mli_search_inds[mli_index_L])\n",
        "        mli_train.append(mli_train_inds)\n",
        "        L[i] = mli_index\n",
        "        K[i] = mli_train_inds[-1]\n",
        "        if mli_train_inds[-1] == np.argmax(y):\n",
        "            break\n",
        "\n",
        "    return K\n",
        "\n",
        "\n",
        "def MU(X: np.ndarray, y: np.ndarray, n_steps: int) -> int:\n",
        "    \"\"\"Acquisition functions MU.\n",
        "\n",
        "    Args:\n",
        "        X (numpy.ndarray): matrix with n rows (number of total materials for\n",
        "            which doing the SL, in our case 100) and d columns (number of features\n",
        "            taken into account for the optimization)\n",
        "        y (numpy.ndarray): vector with n rows (target property)\n",
        "        n_steps (int): number of steps allowed for doing SL (in our case,\n",
        "            100 total materials - 50 materials in the initial training set\n",
        "            = maximum 50 steps to find the optimum)\n",
        "\n",
        "    Returns:\n",
        "        int: the index of the chosen material\n",
        "    \"\"\"\n",
        "\n",
        "    arr = y\n",
        "    minima = arr.argsort()[0:50]\n",
        "    in_train = np.zeros(len(X), dtype=np.bool)\n",
        "    in_train[minima] = True\n",
        "\n",
        "    all_inds = set(range(len(y)))\n",
        "    R = np.zeros(n_steps)\n",
        "    S = np.zeros(n_steps)\n",
        "    mu_train = [list(set(np.where(in_train)[0].tolist()))]\n",
        "    mu_train_inds = []\n",
        "\n",
        "    T = 10\n",
        "\n",
        "    for i in tqdm.tqdm(range(n_steps)):\n",
        "        mu_train_inds = mu_train[-1].copy()\n",
        "        mu_search_inds = list(all_inds.difference(mu_train_inds))\n",
        "\n",
        "        mu_selection_index = []\n",
        "        for j in range(T):\n",
        "            model.fit(X[mu_train_inds], y[mu_train_inds])\n",
        "            mu_y_pred_prov, mu_y_std_prov = model.predict(\n",
        "                X[mu_search_inds], return_std=True\n",
        "            )\n",
        "            mu_selection_index.append(np.argmax(mu_y_std_prov))\n",
        "\n",
        "        mu_index_R = max(set(mu_selection_index), key=mu_selection_index.count)\n",
        "        mu_index = mu_search_inds[mu_index_R]\n",
        "\n",
        "        mu_train_inds.append(mu_search_inds[mu_index_R])\n",
        "        mu_train.append(mu_train_inds)  # Pick the most preferred entry\n",
        "        R[i] = mu_index\n",
        "        S[i] = mu_train_inds[-1]\n",
        "        if mu_train_inds[-1] == np.argmax(y):\n",
        "            break\n",
        "\n",
        "    return S"
      ]
    },
    {
      "cell_type": "code",
      "execution_count": 28,
      "metadata": {
        "id": "NpTfDvBdCleP"
      },
      "outputs": [],
      "source": [
        "def produce_Data_SL(\n",
        "    Data: pd.DataFrame,\n",
        "    Output_mean_shap: pd.DataFrame,\n",
        "    n_relevant: int,\n",
        "    target_property: str,\n",
        ") -> tuple:\n",
        "    \"\"\"Function to produce datasets for SL starting from the complete database (Featurized_data).\n",
        "\n",
        "    Args:\n",
        "        Data (pandas.DataFrame): complete database (Featureized_data)\n",
        "        Output_mean_shap (pandas.DataFrame): ranking of features used in terms of importance\n",
        "        n_relevant (int): number of relevant features\n",
        "        target_property (str): name of the target property in the complete database\n",
        "\n",
        "    Returns:\n",
        "        tuple: containing:\n",
        "            -  pandas.DataFrame: dataset with only the relevant features + the target property\n",
        "            -  pandas.DataFrame: dataset with relevant features + set of unrelevant features\n",
        "                (summing up to 30 columns) + the target property\n",
        "    \"\"\"\n",
        "\n",
        "    relevant_features = list(Output_mean_shap.iloc[:n_relevant].index)\n",
        "    unrelevant_features = list(\n",
        "        Output_mean_shap.sort_values(\"mean\").iloc[: int(30 - n_relevant)].index\n",
        "    )\n",
        "    all_features = relevant_features + unrelevant_features\n",
        "\n",
        "    relevant_features.append(target_property)\n",
        "    all_features.append(target_property)\n",
        "\n",
        "    Data_sampled = Data.sample(\n",
        "        n=100, random_state=SEED\n",
        "    )  # replace the random_state with your group number\n",
        "\n",
        "    Data_relevant_features = pd.DataFrame(Data_sampled, columns=relevant_features)\n",
        "    Data_all_features = pd.DataFrame(Data_sampled, columns=all_features)\n",
        "\n",
        "    return (Data_relevant_features, Data_all_features)"
      ]
    },
    {
      "cell_type": "markdown",
      "metadata": {
        "id": "5_mmmDpG6du0"
      },
      "source": [
        "### **Definition of the SL predictor**\n",
        "The SL predictor is constructed on the basis of the Random Forest Regressor by lolopy."
      ]
    },
    {
      "cell_type": "code",
      "execution_count": 22,
      "metadata": {
        "id": "Ng-hmO_ODcvC"
      },
      "outputs": [],
      "source": [
        "model = RandomForestRegressor()"
      ]
    },
    {
      "cell_type": "markdown",
      "metadata": {
        "id": "WX6MDlyD61kc"
      },
      "source": [
        "### **Datasets production for SL**\n",
        "We produce two datasets:\n",
        "* Data_relevant_features, with 100 random rows and the relevant features explaining the 75% of the predictive model (see section Interpretability) + target property column\n",
        "* Data_all_features, with 100 random rows and 30 features, given by the relevant features (above point) + set of unrelevant features + target property column"
      ]
    },
    {
      "cell_type": "code",
      "execution_count": 23,
      "metadata": {
        "id": "jibeNvi3DiDq"
      },
      "outputs": [],
      "source": [
        "Data_relevant_features, Data_all_features = produce_Data_SL(\n",
        "    Featurized_data, Output_mean_shap, ind_cross1 + 1, \"Tc\"\n",
        ")"
      ]
    },
    {
      "cell_type": "code",
      "execution_count": null,
      "metadata": {
        "id": "jZkCC5ouKAR1"
      },
      "outputs": [],
      "source": [
        "Data_relevant_features.columns"
      ]
    },
    {
      "cell_type": "code",
      "execution_count": null,
      "metadata": {
        "id": "VTRCRt0xKCb5"
      },
      "outputs": [],
      "source": [
        "Data_all_features.columns"
      ]
    },
    {
      "cell_type": "markdown",
      "metadata": {
        "id": "KGseQBYpFNOJ",
        "outputId": "667c13a1-3f02-417c-dd0a-0273dfdebdc6"
      },
      "source": [
        "![https://raw.githubusercontent.com/paolodeangelis/AEM/main/img/Image_Data.png](https://raw.githubusercontent.com/paolodeangelis/AEM/main/img/Image_Data.png)"
      ]
    },
    {
      "cell_type": "markdown",
      "metadata": {
        "id": "SDGlsl1RFOMz"
      },
      "source": [
        "#### **Sequential Learning relevant features**\n",
        "Start with the pool of the 50 worst samples in terms of the target $y$ (critical Temperature); SL strategies suggest the next material to be evaluated. The objective is to find the optimum among the other 50 materials with as few evaluations as possible. Search stops when the material with the maximum $y$ (among those remaining 50) is chosen. \n",
        "\n",
        "Three strategies are compared: Maximum Expected Improvement (MEI), Maximum Likelihood Improvement (MLI), Maximum Uncertainty (MU)."
      ]
    },
    {
      "cell_type": "markdown",
      "metadata": {
        "id": "OQYCshEHCtDq"
      },
      "source": [
        "<div class=\"alert alert-block alert-warning\">\n",
        "<b>WARNING: </b> \n",
        "\n",
        "Since also the Random Forest Regressor by lolopy for SL is not deterministic, if you run the code more times, you will end up with different *trajectories* of evaluations.\n",
        "</div>"
      ]
    },
    {
      "cell_type": "markdown",
      "metadata": {
        "id": "qWuoV0hjIKyR",
        "outputId": "a3d10649-501b-4f6c-ceff-846fb2a82410"
      },
      "source": [
        "![https://raw.githubusercontent.com/paolodeangelis/AEM/main/img/Image_SL.png](https://raw.githubusercontent.com/paolodeangelis/AEM/main/img/Image_SL.png)"
      ]
    },
    {
      "cell_type": "code",
      "execution_count": null,
      "metadata": {
        "id": "-fhmSGpOD2x5"
      },
      "outputs": [],
      "source": [
        "MEI_index_relevant = MEI(\n",
        "    Data_relevant_features.iloc[:, :-1].values,\n",
        "    Data_relevant_features.iloc[:, -1].values,\n",
        "    50,\n",
        ")"
      ]
    },
    {
      "cell_type": "code",
      "execution_count": null,
      "metadata": {
        "id": "OLg1tkkrECfi"
      },
      "outputs": [],
      "source": [
        "MLI_index_relevant = MLI(\n",
        "    Data_relevant_features.iloc[:, :-1].values,\n",
        "    Data_relevant_features.iloc[:, -1].values,\n",
        "    50,\n",
        ")"
      ]
    },
    {
      "cell_type": "code",
      "execution_count": null,
      "metadata": {
        "id": "5MooOKyfEw8U"
      },
      "outputs": [],
      "source": [
        "MU_index_relevant = MU(\n",
        "    Data_relevant_features.iloc[:, :-1].values,\n",
        "    Data_relevant_features.iloc[:, -1].values,\n",
        "    50,\n",
        ")"
      ]
    },
    {
      "cell_type": "markdown",
      "source": [
        "In the cell below, write the numbers of evaluations performed in the three runs above."
      ],
      "metadata": {
        "id": "RnCvE4WBbpPq"
      }
    },
    {
      "cell_type": "code",
      "source": [
        "N_MEI_index_relevant = \n",
        "N_MLI_index_relevant = \n",
        "N_MU_index_relevant = "
      ],
      "metadata": {
        "id": "JUSAei7Ob2e9"
      },
      "execution_count": null,
      "outputs": []
    },
    {
      "cell_type": "markdown",
      "metadata": {
        "id": "5ZVm3m4mFSjT"
      },
      "source": [
        "#### **Sequential Learning relevant + unrelevant features**\n",
        "Start with the pool of the 50 worst samples in terms of the target $y$ (critical Temperature); SL strategies suggest the next material to be evaluated. The objective is to find the optimum among the other 50 materials with as few evaluations as possible. Search stops when the material with the maximum $y$ (among those remaining 50) is chosen. \n",
        "\n",
        "Three strategies are compared: Maximum Expected Improvement (MEI), Maximum Likelihood Improvement (MLI), Maximum Uncertainty (MU)."
      ]
    },
    {
      "cell_type": "markdown",
      "metadata": {
        "id": "fRSu2AL_CtDu"
      },
      "source": [
        "<div class=\"alert alert-block alert-warning\">\n",
        "<b>WARNING: </b> \n",
        "\n",
        "Since also the Random Forest Regressor by lolopy for SL is not deterministic, if you run the code more times, you will end up with different *trajectories* of evaluations. \n",
        "</div>"
      ]
    },
    {
      "cell_type": "code",
      "execution_count": null,
      "metadata": {
        "id": "6ruq1WZ7FVdd"
      },
      "outputs": [],
      "source": [
        "MEI_index_all = MEI(\n",
        "    Data_all_features.iloc[:, :-1].values, Data_all_features.iloc[:, -1].values, 50\n",
        ")"
      ]
    },
    {
      "cell_type": "code",
      "execution_count": null,
      "metadata": {
        "id": "psfm-u6UFkAt"
      },
      "outputs": [],
      "source": [
        "MLI_index_all = MLI(\n",
        "    Data_all_features.iloc[:, :-1].values, Data_all_features.iloc[:, -1].values, 50\n",
        ")"
      ]
    },
    {
      "cell_type": "code",
      "execution_count": null,
      "metadata": {
        "id": "5LhovgrNFpH4"
      },
      "outputs": [],
      "source": [
        "MU_index_all = MU(\n",
        "    Data_all_features.iloc[:, :-1].values, Data_all_features.iloc[:, -1].values, 50\n",
        ")"
      ]
    },
    {
      "cell_type": "markdown",
      "source": [
        "In the cell below, write the numbers of evaluations performed in the three runs above."
      ],
      "metadata": {
        "id": "QJpxThhTcPkF"
      }
    },
    {
      "cell_type": "code",
      "source": [
        "N_MEI_index_all = \n",
        "N_MLI_index_all = \n",
        "N_MU_index_all = "
      ],
      "metadata": {
        "id": "HHWxbJ5_cCfB"
      },
      "execution_count": null,
      "outputs": []
    },
    {
      "cell_type": "markdown",
      "metadata": {
        "id": "EbvwqG20Od3B"
      },
      "source": [
        "#### **Comprehensive comparison between more strategies and different sets of features**\n",
        "We plot the performances of the SL in terms of the number of evaluations needed to find the optimum normalized with respect to the average number of evaluations needed with a *naive* random choice."
      ]
    },
    {
      "cell_type": "code",
      "execution_count": null,
      "metadata": {
        "id": "EG9-xWdiFt0b"
      },
      "outputs": [],
      "source": [
        "N = 50 / 2  # number of evaluations in random choice\n",
        "labels = [\"MEI\", \"MLI\", \"MU\"]\n",
        "relevant = [\n",
        "    N_MEI_index_relevant / N,\n",
        "    N_MLI_index_relevant / N,\n",
        "    N_MU_index_relevant / N,\n",
        "]  # replace numbers with the numbers of evaluations performed by SL for MEI, MLI, MU with only relevant features\n",
        "all = [\n",
        "    N_MEI_index_all / N,\n",
        "    N_MLI_index_all / N,\n",
        "    N_MU_index_all / N,\n",
        "]  # replace numbers with the numbers of evaluations performed by SL for MEI, MLI, MU with also unrelevant features\n",
        "\n",
        "x = np.arange(len(labels))  # the label locations\n",
        "width = 0.2  # the width of the bars\n",
        "\n",
        "import matplotlib.pyplot as plt\n",
        "\n",
        "fig, ax = plt.subplots(figsize=(5, 3), dpi=190)\n",
        "\n",
        "rects1 = ax.bar(x - width / 2, relevant, width, label=\"%i features\" % (ind_cross1 + 1))\n",
        "rects2 = ax.bar(x + width / 2, all, width, label=\"30 features\")\n",
        "plt.axhline(y=1, color=\"k\", linewidth=1, linestyle=\"--\")\n",
        "\n",
        "\n",
        "# Add some text for labels, title and custom x-axis tick labels, etc.\n",
        "ax.set_ylabel(\"Number of experiments/\\n number of random experiments\")\n",
        "ax.set_xticks(x)\n",
        "ax.set_xticklabels(labels)\n",
        "ax.legend()\n",
        "\n",
        "ax.annotate(\n",
        "    \"random choice\",\n",
        "    xy=(1, 1),\n",
        "    xytext=(1.3, 1.2),\n",
        "    arrowprops=dict(facecolor=\"black\", width=0.1, headwidth=4),\n",
        ")\n",
        "\n",
        "\n",
        "fig.tight_layout()\n",
        "\n",
        "plt.show()"
      ]
    },
    {
      "cell_type": "markdown",
      "source": [
        "**WARNING**: In the figure here above you could have all the bars over the random choice. DON'T WORRY, you will not get worse grade for this."
      ],
      "metadata": {
        "id": "aGFkrohfcfmA"
      }
    },
    {
      "cell_type": "markdown",
      "metadata": {
        "id": "XKFm_Nm5k7tG"
      },
      "source": [
        "## Assignment \n",
        "### Notebook\n",
        "* In this notebook, set the  ```SEED``` equal to the number of your group. Set the ```N_data``` equal 2000 (for the first part of the report). Set ```N_trees``` equal to 100 (for the first part of the report).\n",
        "* In this notebook, after the SL runs, in the subsection \"Comprehensive comparison between more strategies and different sets of features\", please replace the number of evaluations \n",
        "```N_MEI_index_relevant ```,\n",
        "```N_MLI_index_relevant ```,\n",
        "```N_MU_index_relevant ```,\n",
        "```N_MEI_index_all ```,\n",
        "```N_MLI_index_all ```,\n",
        "```N_MU_index_all ```\n",
        "\n",
        "with the ones that you obtain in your runs. Please notice that, since the code is not deterministic, if you run the same code more times, in general you will end up with different results. Don't worry: just report the number of evaluations of one run for each of the 6 cases (3 methodologies with 2 different sets of features).\n",
        "\n",
        "### Report\n",
        "* **First part**: with this notebook modified as prescribed above, obtain main results (model performances, relevant features, Sequential Learning performances).\n",
        "* **Second part**: redo the *Machine Learning* section and the *Interpretability* section modifying the number of materials ```N_data``` in the dataset and the number of estimators ```N_trees``` in the Random Forest Regressor (for the predictive model). Combinations of those parameters are provided for each group in the document \"Assignments for the machine learning lab\". For each combination, please, re-run the code from the SuperCon database import. In this second part DO NOT redo the Sequential Learning.\n",
        "\n",
        "\n",
        "\n"
      ]
    }
  ],
  "metadata": {
    "colab": {
      "name": "2-Hands_on_ML_SL.ipynb",
      "provenance": []
    },
    "kernelspec": {
      "display_name": "Python 3",
      "name": "python3"
    },
    "language_info": {
      "name": "python"
    }
  },
  "nbformat": 4,
  "nbformat_minor": 0
}